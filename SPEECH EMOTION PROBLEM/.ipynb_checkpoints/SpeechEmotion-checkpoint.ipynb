{
 "cells": [
  {
   "cell_type": "markdown",
   "metadata": {
    "colab_type": "text",
    "id": "jm17InXtednn"
   },
   "source": [
    "# Author: Sumit Sarin"
   ]
  },
  {
   "cell_type": "markdown",
   "metadata": {
    "colab_type": "text",
    "id": "AKykdc0f4Qhp"
   },
   "source": [
    "# Summary\n",
    "* I tried 4 different approaches for solving this imbalanced multiclass classification problem.\n",
    "* The best results were obtained by applying an ANN on features extracted from opensmile.\n",
    "* I tried to tackle class imbalance problem using class weights, SMOTE (oversampling) and Near miss (undersampling). SMOTE gave the best results.\n",
    "* Other approaches I tried were using CNN, LSTM on mel spectogram, and infusing the opensmile features with the LSTM on mel spectogram, just before the final FC layers."
   ]
  },
  {
   "cell_type": "markdown",
   "metadata": {
    "colab_type": "text",
    "id": "TlkyEe8pNPjV"
   },
   "source": [
    "Mount Google Drive"
   ]
  },
  {
   "cell_type": "code",
   "execution_count": 1,
   "metadata": {
    "colab": {
     "base_uri": "https://localhost:8080/",
     "height": 122
    },
    "colab_type": "code",
    "id": "_Ee-NnfykTD7",
    "outputId": "2fca1a63-7b40-49d0-84f9-44c17d00c5c4"
   },
   "outputs": [
    {
     "name": "stdout",
     "output_type": "stream",
     "text": [
      "Go to this URL in a browser: https://accounts.google.com/o/oauth2/auth?client_id=947318989803-6bn6qk8qdgf4n4g3pfee6491hc0brc4i.apps.googleusercontent.com&redirect_uri=urn%3Aietf%3Awg%3Aoauth%3A2.0%3Aoob&scope=email%20https%3A%2F%2Fwww.googleapis.com%2Fauth%2Fdocs.test%20https%3A%2F%2Fwww.googleapis.com%2Fauth%2Fdrive%20https%3A%2F%2Fwww.googleapis.com%2Fauth%2Fdrive.photos.readonly%20https%3A%2F%2Fwww.googleapis.com%2Fauth%2Fpeopleapi.readonly&response_type=code\n",
      "\n",
      "Enter your authorization code:\n",
      "··········\n",
      "Mounted at /mntDrive\n"
     ]
    }
   ],
   "source": [
    "from google.colab import drive \n",
    "drive.mount('/mntDrive') "
   ]
  },
  {
   "cell_type": "markdown",
   "metadata": {
    "colab_type": "text",
    "id": "NSRRIaWGclqu"
   },
   "source": [
    "# Index:\n",
    "1. [Artificial Neural Network on feature vectors generated from opensmile](#method1) (Used in final result)\n",
    "2. [Generate spectrograms and apply CNN for classification](#method2)\n",
    "3. [Apply LSTM on sequential spectogram](#method3)\n",
    "4. [Infuse LSTM extracted feature vector with the opensmile features](#method4)\n",
    "5. [Result](#result)\n",
    "6. [Future Discussions](#future_discussion)\n",
    "7. [Miscellaneous](#misc)"
   ]
  },
  {
   "cell_type": "markdown",
   "metadata": {
    "colab_type": "text",
    "id": "jbVSg0TbR22H"
   },
   "source": [
    "# Method 1 (Used in final result): Artificial Neural Network on feature vectors generated from opensmile <a id='another_cell'></a>"
   ]
  },
  {
   "cell_type": "markdown",
   "metadata": {
    "colab_type": "text",
    "id": "VHKMxsY6i4VU"
   },
   "source": [
    "##### What I am doing:<br>\n",
    "* I am first extracting opensmile features using the emo_large configuration.<br>\n",
    "* Then I am building a neural network with 2 hidden layers (relu activation and 4096 neurons) and one output layer(softmax activation and 17 neurons). <br> \n",
    "* Softmax will give us log probabilities, and since this is NOT multilabel classification problem, we will choose the class with highest softmax value as the predicted class. <br>\n",
    "* I am using dropout and L2 regularization to prevent overfitting.\n",
    "* I have applied featurewise zero centering and normalization.\n",
    "* To tackle class imbalance i tried using class weights, SMOTE, random downsampling, random downsampling, and near miss algorithm. Smote gave the best results.\n",
    "* I used a learning rate scheduler to decrease the learning rate appropriately.\n",
    "* I tried both SGD and Adam. Adam reached lower loss more quickly.\n",
    "* At the end, I calculate the precision, recall and F1 scores.\n"
   ]
  },
  {
   "cell_type": "markdown",
   "metadata": {
    "colab_type": "text",
    "id": "VwBwWsWQNYS4"
   },
   "source": [
    "##### Import modules"
   ]
  },
  {
   "cell_type": "code",
   "execution_count": 2,
   "metadata": {
    "colab": {
     "base_uri": "https://localhost:8080/",
     "height": 117
    },
    "colab_type": "code",
    "id": "CmuR-rPWmjr7",
    "outputId": "ea5de89a-d4c2-40ac-ed58-00834dd325e7"
   },
   "outputs": [
    {
     "data": {
      "text/html": [
       "<p style=\"color: red;\">\n",
       "The default version of TensorFlow in Colab will soon switch to TensorFlow 2.x.<br>\n",
       "We recommend you <a href=\"https://www.tensorflow.org/guide/migrate\" target=\"_blank\">upgrade</a> now \n",
       "or ensure your notebook will continue to use TensorFlow 1.x via the <code>%tensorflow_version 1.x</code> magic:\n",
       "<a href=\"https://colab.research.google.com/notebooks/tensorflow_version.ipynb\" target=\"_blank\">more info</a>.</p>\n"
      ],
      "text/plain": [
       "<IPython.core.display.HTML object>"
      ]
     },
     "metadata": {
      "tags": []
     },
     "output_type": "display_data"
    },
    {
     "name": "stderr",
     "output_type": "stream",
     "text": [
      "/usr/local/lib/python3.6/dist-packages/sklearn/externals/six.py:31: DeprecationWarning: The module is deprecated in version 0.21 and will be removed in version 0.23 since we've dropped support for Python 2.7. Please rely on the official version of six (https://pypi.org/project/six/).\n",
      "  \"(https://pypi.org/project/six/).\", DeprecationWarning)\n"
     ]
    }
   ],
   "source": [
    "import numpy as np\n",
    "from tensorflow.keras.layers import InputLayer, Dense, Dropout\n",
    "from tensorflow.keras import Sequential\n",
    "from tensorflow.keras.optimizers import Adam, SGD\n",
    "from sklearn.utils import class_weight\n",
    "from tensorflow.keras import backend as K\n",
    "import matplotlib.pyplot as plt\n",
    "from tensorflow.keras.backend import clear_session\n",
    "from sklearn.metrics import classification_report, f1_score, confusion_matrix\n",
    "from tensorflow.keras.callbacks import ModelCheckpoint, Callback, ReduceLROnPlateau, LearningRateScheduler\n",
    "from imblearn.over_sampling import SMOTE \n",
    "from imblearn.under_sampling import NearMiss\n",
    "from tensorflow.keras import regularizers\n",
    "from tensorflow.keras.models import load_model"
   ]
  },
  {
   "cell_type": "markdown",
   "metadata": {
    "colab_type": "text",
    "id": "iXgQV9-4Gjs0"
   },
   "source": [
    "##### Hyperparameters, etc."
   ]
  },
  {
   "cell_type": "code",
   "execution_count": 0,
   "metadata": {
    "colab": {},
    "colab_type": "code",
    "id": "2qm7WuRQGMxp"
   },
   "outputs": [],
   "source": [
    "EPOCHS = 50\n",
    "LR = 0.0001\n",
    "BATCH_SIZE = 16\n",
    "DROPOUT_RATE = 0.5\n",
    "REG_STRENGTH = 0.01\n",
    "\n",
    "EMOTIONS = [\"disgust\", \"happy\", \"sad\", \"fear\", \"neutral\"]"
   ]
  },
  {
   "cell_type": "markdown",
   "metadata": {
    "colab_type": "text",
    "id": "v89s8RWmRT3o"
   },
   "source": [
    "##### Run opensmile on every wav file and store it's output file (arff format)."
   ]
  },
  {
   "cell_type": "code",
   "execution_count": 0,
   "metadata": {
    "colab": {},
    "colab_type": "code",
    "id": "7YFna0EAOGXn"
   },
   "outputs": [],
   "source": [
    "train_path = \"./train\"\n",
    "val_path = \"./val\"\n",
    "\n",
    "os.makedirs(\"./train_csv\")\n",
    "os.makedirs(\"./val_csv\")\n",
    "\n",
    "for emotion in EMOTIONS:\n",
    "    os.makedirs(os.path.join(train_path+\"_csv\", emotion))\n",
    "    os.makedirs(os.path.join(val_path+\"_csv\", emotion))\n",
    "\n",
    "for path in [train_path, val_path]:\n",
    "    wav_files = glob(path+\"/*/*.wav\")\n",
    "\n",
    "    for wav_file in wav_files:\n",
    "        osmile_cmd = \"/Users/sumitsarin/Downloads/opensmile-2.3.0/SMILExtract -C /Users/sumitsarin/Downloads/opensmile-2.3.0/config/emo_large.conf\"\n",
    "        osmile_cmd += \" -I \"+wav_file\n",
    "        op_path = ((path+\"_csv/\")+wav_file.split(sep='/')[-2]+'/'+wav_file.split(sep='/')[-1])[:-3] +'arff'\n",
    "        osmile_cmd += \" -O \"+op_path\n",
    "        os.system(osmile_cmd) # Exectute opensmile command"
   ]
  },
  {
   "cell_type": "markdown",
   "metadata": {
    "colab_type": "text",
    "id": "v7SuApW9Wusl"
   },
   "source": [
    "##### Generate train and val splits from the feature vector files generated by opensmile."
   ]
  },
  {
   "cell_type": "code",
   "execution_count": 0,
   "metadata": {
    "colab": {},
    "colab_type": "code",
    "id": "hwtuXxlXVgJr"
   },
   "outputs": [],
   "source": [
    "X_train = []\n",
    "y_train = []\n",
    "\n",
    "path = train_path+'_csv'\n",
    "\n",
    "arff_files = glob(path+\"/*/*.arff\")\n",
    "\n",
    "for file_name in arff_files:\n",
    "    f = open(file_name)\n",
    "    lines = f.readlines()\n",
    "    params = lines[6560].split(',')[1:-1]\n",
    "    params = [float(i) for i in params]\n",
    "    params = np.array(params)\n",
    "    f.close()\n",
    "    X_val.append(params)\n",
    "    \n",
    "    label = file_name.split(sep='/')[-2]\n",
    "    label_id = EMOTIONS.index(label)  \n",
    "    y_val.append(label_id)\n",
    "    \n",
    "X_train = np.array(X_val)\n",
    "y_train = np.array(y_val)"
   ]
  },
  {
   "cell_type": "code",
   "execution_count": 0,
   "metadata": {
    "colab": {},
    "colab_type": "code",
    "id": "Y5OFCTc4PkAP"
   },
   "outputs": [],
   "source": [
    "X_val = []\n",
    "y_val = []\n",
    "\n",
    "path = val_path+'_csv'\n",
    "\n",
    "arff_files = glob(path+\"/*/*.arff\")\n",
    "\n",
    "for file_name in arff_files:\n",
    "    f = open(file_name)\n",
    "    lines = f.readlines()\n",
    "    params = lines[6560].split(',')[1:-1]\n",
    "    params = [float(i) for i in params]\n",
    "    params = np.array(params)\n",
    "    f.close()\n",
    "    X_val.append(params)\n",
    "    \n",
    "    label = file_name.split(sep='/')[-2]\n",
    "    label_id = EMOTIONS.index(label)  \n",
    "    y_val.append(label_id)\n",
    "    \n",
    "X_val = np.array(X_val)\n",
    "y_val = np.array(y_val)"
   ]
  },
  {
   "cell_type": "markdown",
   "metadata": {
    "colab_type": "text",
    "id": "6W9em-pTW-ZD"
   },
   "source": [
    "##### Save sets for repeated use. The reason I am not using data in batches is because on google drive, the disk speeds are way too slow. I have mentioned the code I tried for generating batched audio data in miscellaneous section."
   ]
  },
  {
   "cell_type": "code",
   "execution_count": 0,
   "metadata": {
    "colab": {},
    "colab_type": "code",
    "id": "7FzvQFKkXHXe"
   },
   "outputs": [],
   "source": [
    "DIR = \"/mntDrive/My Drive/meld/\"\n",
    "\n",
    "X_train.save(DIR+\"X_train\", X_train)\n",
    "y_train.save(DIR+\"y_train\", y_train)\n",
    "X_val.save(DIR+\"X_val\", X_val)\n",
    "y_val.save(DIR+\"y_val\", y_val)"
   ]
  },
  {
   "cell_type": "markdown",
   "metadata": {
    "colab_type": "text",
    "id": "ARJt2U4jXCRU"
   },
   "source": [
    "##### Load train and val split."
   ]
  },
  {
   "cell_type": "code",
   "execution_count": 0,
   "metadata": {
    "colab": {},
    "colab_type": "code",
    "id": "9bLBLDsPkVam"
   },
   "outputs": [],
   "source": [
    "DIR = \"/mntDrive/My Drive/meld/\"\n",
    "\n",
    "X_train = np.load(DIR+\"X_train.npy\")\n",
    "y_train = np.load(DIR+\"y_train.npy\")\n",
    "X_val = np.load(DIR+\"X_val.npy\")\n",
    "y_val = np.load(DIR+\"y_val.npy\")"
   ]
  },
  {
   "cell_type": "markdown",
   "metadata": {
    "colab_type": "text",
    "id": "-thKbvdAZMqX"
   },
   "source": [
    "##### Zero center and normalize the data feature wise.\n",
    "1. The reason to normalize is so that we dont get huge gradient updates. \n",
    "2. Doing zero centering prevents the loss to go down in a zig zag manner which happens if all updates are positive or negative together."
   ]
  },
  {
   "cell_type": "code",
   "execution_count": 5,
   "metadata": {
    "colab": {
     "base_uri": "https://localhost:8080/",
     "height": 34
    },
    "colab_type": "code",
    "id": "dEhzE_Q0q1t-",
    "outputId": "8e19aae4-4ba3-4cbc-d373-bd785bcde687"
   },
   "outputs": [
    {
     "name": "stdout",
     "output_type": "stream",
     "text": [
      "(7354, 6553) (7354,) (830, 6553) (830,)\n"
     ]
    }
   ],
   "source": [
    "mean = np.mean(X_train, axis = 0)\n",
    "std = np.std(X_train, axis = 0)\n",
    "\n",
    "mean = np.mean(X_train, axis = 0)\n",
    "std = np.std(X_train, axis = 0)\n",
    "\n",
    "X_train -= mean\n",
    "X_val -= mean\n",
    "\n",
    "X_train = np.divide(X_train, std, out=np.zeros_like(X_train), where=std!=0)\n",
    "X_val = np.divide(X_val, std, out=np.zeros_like(X_val), where=std!=0)\n",
    "\n",
    "print(X_train.shape, y_train.shape, X_val.shape, y_val.shape)"
   ]
  },
  {
   "cell_type": "markdown",
   "metadata": {
    "colab_type": "text",
    "id": "6ON_mtUrde1P"
   },
   "source": [
    "##### Visualizing class frequencies"
   ]
  },
  {
   "cell_type": "code",
   "execution_count": 0,
   "metadata": {
    "colab": {
     "base_uri": "https://localhost:8080/",
     "height": 543
    },
    "colab_type": "code",
    "id": "HUWx6D9vdWyg",
    "outputId": "1485369e-7895-4f39-fa79-2710a662473e"
   },
   "outputs": [
    {
     "name": "stdout",
     "output_type": "stream",
     "text": [
      "fear occurs least no of times: 215\n",
      "neutral occurs max no of times: 4591\n"
     ]
    },
    {
     "data": {
      "image/png": "[encoded data removed]",
      "text/plain": [
       "<Figure size 576x576 with 1 Axes>"
      ]
     },
     "metadata": {
      "tags": []
     },
     "output_type": "display_data"
    }
   ],
   "source": [
    "plt.figure(figsize=(8, 8))\n",
    "\n",
    "class_count = {}\n",
    "\n",
    "for y in y_train:\n",
    "    if EMOTIONS[y] in class_count:\n",
    "        class_count[EMOTIONS[y]] += 1\n",
    "    else:\n",
    "        class_count[EMOTIONS[y]] = 0\n",
    "            \n",
    "min_label = min(class_count, key=class_count.get)\n",
    "max_label = max(class_count, key=class_count.get)\n",
    "print(min_label+\" occurs least no of times: \"+str(class_count[min_label]))\n",
    "print(max_label+\" occurs max no of times: \"+str(class_count[max_label]))\n",
    "            \n",
    "plt.bar(range(len(class_count)), list(class_count.values()), align='center')\n",
    "plt.xticks(range(len(class_count)), list(class_count.keys()), rotation=90)\n",
    "\n",
    "plt.show()"
   ]
  },
  {
   "cell_type": "markdown",
   "metadata": {
    "colab_type": "text",
    "id": "y1ai_CV_Y1r-"
   },
   "source": [
    "##### I tried handling class imbalance using the three methods mentioned below. SMOTE gives slightly better results so I used it in my final model."
   ]
  },
  {
   "cell_type": "markdown",
   "metadata": {
    "colab_type": "text",
    "id": "D9hCz9BpX_DZ"
   },
   "source": [
    "##### 1. Through class weights:"
   ]
  },
  {
   "cell_type": "code",
   "execution_count": 0,
   "metadata": {
    "colab": {},
    "colab_type": "code",
    "id": "2lkaTWqAYyHs"
   },
   "outputs": [],
   "source": [
    "class_weights = class_weight.compute_class_weight('balanced', np.unique(y_train), y_train)"
   ]
  },
  {
   "cell_type": "markdown",
   "metadata": {
    "colab_type": "text",
    "id": "obSyGjLnYH0P"
   },
   "source": [
    "##### 2. Through upsampling of minority classes using SMOTE."
   ]
  },
  {
   "cell_type": "code",
   "execution_count": 6,
   "metadata": {
    "colab": {
     "base_uri": "https://localhost:8080/",
     "height": 34
    },
    "colab_type": "code",
    "id": "aqfBUP1oQHMY",
    "outputId": "5cac9f10-dabf-4ec3-8a80-3a53059ade06"
   },
   "outputs": [
    {
     "name": "stdout",
     "output_type": "stream",
     "text": [
      "(22960, 6553) (22960,)\n"
     ]
    }
   ],
   "source": [
    "sm = SMOTE(random_state = 2) \n",
    "X_train_sm, y_train_sm = sm.fit_sample(X_train, y_train)\n",
    "\n",
    "print(X_train_sm.shape, y_train_sm.shape)"
   ]
  },
  {
   "cell_type": "markdown",
   "metadata": {
    "colab_type": "text",
    "id": "YK5KbmPOY9Rg"
   },
   "source": [
    "##### 3. Through downsampling of majority classes"
   ]
  },
  {
   "cell_type": "code",
   "execution_count": 0,
   "metadata": {
    "colab": {
     "base_uri": "https://localhost:8080/",
     "height": 34
    },
    "colab_type": "code",
    "id": "fi2sLXijWD_E",
    "outputId": "b5553312-0330-4c76-ef0e-b7ab5fb7cc2c"
   },
   "outputs": [
    {
     "name": "stdout",
     "output_type": "stream",
     "text": [
      "(1080, 6553) (1080,)\n"
     ]
    }
   ],
   "source": [
    "nr = NearMiss()\n",
    "X_train_nm, y_train_nm = nr.fit_sample(X_train, y_train)\n",
    "\n",
    "print(X_train_nm.shape, y_train_nm.shape)"
   ]
  },
  {
   "cell_type": "markdown",
   "metadata": {
    "colab_type": "text",
    "id": "P64_s9_qZlfm"
   },
   "source": [
    "##### Create a keras model with a specified dropout and regularization strength. I found dropout of 0.5 and reg strength of 0.01 well suited."
   ]
  },
  {
   "cell_type": "code",
   "execution_count": 0,
   "metadata": {
    "colab": {},
    "colab_type": "code",
    "id": "SmOaUIlym-Sw"
   },
   "outputs": [],
   "source": [
    "def create_model(dropout_rate, regularization_strength):\n",
    "    \"\"\"Returns tensorflow Sequential keras model\"\"\"\n",
    "    model = Sequential()\n",
    "    model.add(InputLayer((6553)))\n",
    "    model.add(Dense(4096, activation='relu', kernel_regularizer=regularizers.l2(regularization_strength)))\n",
    "    model.add(Dropout(dropout_rate))\n",
    "    model.add(Dense(4096, activation='relu', kernel_regularizer=regularizers.l2(regularization_strength)))\n",
    "    model.add(Dropout(dropout_rate))\n",
    "    model.add(Dense(5, activation='softmax'))\n",
    "\n",
    "    return model"
   ]
  },
  {
   "cell_type": "code",
   "execution_count": 0,
   "metadata": {
    "colab": {
     "base_uri": "https://localhost:8080/",
     "height": 323
    },
    "colab_type": "code",
    "id": "i5ocHK6QndSX",
    "outputId": "c331da39-ca2b-4e99-d4e4-6dd5e1c0fcfd"
   },
   "outputs": [
    {
     "name": "stdout",
     "output_type": "stream",
     "text": [
      "Model: \"sequential\"\n",
      "_________________________________________________________________\n",
      "Layer (type)                 Output Shape              Param #   \n",
      "=================================================================\n",
      "dense (Dense)                (None, 4096)              26845184  \n",
      "_________________________________________________________________\n",
      "dropout (Dropout)            (None, 4096)              0         \n",
      "_________________________________________________________________\n",
      "dense_1 (Dense)              (None, 4096)              16781312  \n",
      "_________________________________________________________________\n",
      "dropout_1 (Dropout)          (None, 4096)              0         \n",
      "_________________________________________________________________\n",
      "dense_2 (Dense)              (None, 5)                 20485     \n",
      "=================================================================\n",
      "Total params: 43,646,981\n",
      "Trainable params: 43,646,981\n",
      "Non-trainable params: 0\n",
      "_________________________________________________________________\n"
     ]
    }
   ],
   "source": [
    "clear_session()\n",
    "model = create_model(DROPOUT_RATE, REG_STRENGTH)\n",
    "model.summary()"
   ]
  },
  {
   "cell_type": "markdown",
   "metadata": {
    "colab_type": "text",
    "id": "dmNuNVMzZ_Mz"
   },
   "source": [
    "##### Define a custom callback so we can track the macro avg f1 scores of the model on validation set, and save the model which gives best F1 score."
   ]
  },
  {
   "cell_type": "code",
   "execution_count": 0,
   "metadata": {
    "colab": {},
    "colab_type": "code",
    "id": "bfSbPWo0bMM6"
   },
   "outputs": [],
   "source": [
    "class Metrics(Callback):\n",
    "    def on_train_begin(self, logs={}):\n",
    "        self.val_f1s = []\n",
    "        self.max_f1 = 0.0\n",
    " \n",
    "    def on_epoch_end(self, epoch, logs={}):\n",
    "        y_pred = np.argmax(self.model.predict(X_val), axis=1)\n",
    "        y_true = y_val\n",
    "        _val_f1 = f1_score(y_true, y_pred, average='macro')\n",
    "        self.val_f1s.append(_val_f1)\n",
    "        print (\" — val_f1: %f\" %(_val_f1))\n",
    "\n",
    "        if _val_f1 > self.max_f1:\n",
    "            self.model.save_weights('model.h5')\n",
    "            self.max_f1 = _val_f1\n",
    "\n",
    "        return"
   ]
  },
  {
   "cell_type": "markdown",
   "metadata": {},
   "source": [
    "##### Define custom learning rate scheduler."
   ]
  },
  {
   "cell_type": "code",
   "execution_count": 0,
   "metadata": {
    "colab": {},
    "colab_type": "code",
    "id": "_R2CKRSOOF9F"
   },
   "outputs": [],
   "source": [
    "def lr_scheduler(epoch):\n",
    "    if epoch<15:\n",
    "        return 0.0001\n",
    "    return 0.00001"
   ]
  },
  {
   "cell_type": "markdown",
   "metadata": {
    "colab_type": "text",
    "id": "9_Bwu1LDa8GC"
   },
   "source": [
    "##### Run the model and tune the hyperparameters."
   ]
  },
  {
   "cell_type": "code",
   "execution_count": 0,
   "metadata": {
    "colab": {
     "base_uri": "https://localhost:8080/",
     "height": 1000
    },
    "colab_type": "code",
    "id": "Edeog6XPnhth",
    "outputId": "0e587128-f94c-474e-fdf9-e7bed489c715"
   },
   "outputs": [
    {
     "name": "stdout",
     "output_type": "stream",
     "text": [
      "Train on 22960 samples, validate on 830 samples\n",
      "Epoch 1/50\n",
      "22944/22960 [============================>.] - ETA: 0s - loss: 47.9113 - acc: 0.5000 — val_f1: 0.216661\n",
      "22960/22960 [==============================] - 55s 2ms/sample - loss: 47.8917 - acc: 0.5001 - val_loss: 20.1959 - val_acc: 0.3614\n",
      "Epoch 2/50\n",
      "22928/22960 [============================>.] - ETA: 0s - loss: 10.0019 - acc: 0.6106 — val_f1: 0.176241\n",
      "22960/22960 [==============================] - 55s 2ms/sample - loss: 9.9944 - acc: 0.6106 - val_loss: 5.4911 - val_acc: 0.2590\n",
      "Epoch 3/50\n",
      "22928/22960 [============================>.] - ETA: 0s - loss: 3.1269 - acc: 0.6277 — val_f1: 0.221957\n",
      "22960/22960 [==============================] - 55s 2ms/sample - loss: 3.1258 - acc: 0.6276 - val_loss: 2.6551 - val_acc: 0.4241\n",
      "Epoch 4/50\n",
      "22928/22960 [============================>.] - ETA: 0s - loss: 1.9989 - acc: 0.6320 — val_f1: 0.205959\n",
      "22960/22960 [==============================] - 55s 2ms/sample - loss: 1.9991 - acc: 0.6318 - val_loss: 2.3629 - val_acc: 0.3952\n",
      "Epoch 5/50\n",
      "22928/22960 [============================>.] - ETA: 0s - loss: 1.7452 - acc: 0.6474 — val_f1: 0.179624\n",
      "22960/22960 [==============================] - 55s 2ms/sample - loss: 1.7451 - acc: 0.6474 - val_loss: 2.5099 - val_acc: 0.2494\n",
      "Epoch 6/50\n",
      "22928/22960 [============================>.] - ETA: 0s - loss: 1.6425 - acc: 0.6598 — val_f1: 0.184280\n",
      "22960/22960 [==============================] - 55s 2ms/sample - loss: 1.6427 - acc: 0.6596 - val_loss: 2.4211 - val_acc: 0.2795\n",
      "Epoch 7/50\n",
      "22928/22960 [============================>.] - ETA: 0s - loss: 1.6084 - acc: 0.6747 — val_f1: 0.197549\n",
      "22960/22960 [==============================] - 55s 2ms/sample - loss: 1.6089 - acc: 0.6747 - val_loss: 2.5576 - val_acc: 0.2904\n",
      "Epoch 8/50\n",
      "22928/22960 [============================>.] - ETA: 0s - loss: 1.5581 - acc: 0.6801 — val_f1: 0.232185\n",
      "22960/22960 [==============================] - 55s 2ms/sample - loss: 1.5582 - acc: 0.6801 - val_loss: 2.1563 - val_acc: 0.4157\n",
      "Epoch 9/50\n",
      "22928/22960 [============================>.] - ETA: 0s - loss: 1.5330 - acc: 0.6803 — val_f1: 0.207950\n",
      "22960/22960 [==============================] - 55s 2ms/sample - loss: 1.5336 - acc: 0.6803 - val_loss: 2.3467 - val_acc: 0.3482\n",
      "Epoch 10/50\n",
      "22928/22960 [============================>.] - ETA: 0s - loss: 1.5182 - acc: 0.6919 — val_f1: 0.216864\n",
      "22960/22960 [==============================] - 55s 2ms/sample - loss: 1.5183 - acc: 0.6919 - val_loss: 2.2051 - val_acc: 0.3819\n",
      "Epoch 11/50\n",
      "22928/22960 [============================>.] - ETA: 0s - loss: 1.4302 - acc: 0.6990 — val_f1: 0.199388\n",
      "22960/22960 [==============================] - 55s 2ms/sample - loss: 1.4304 - acc: 0.6989 - val_loss: 2.1670 - val_acc: 0.3145\n",
      "Epoch 12/50\n",
      "22944/22960 [============================>.] - ETA: 0s - loss: 1.4445 - acc: 0.7021 — val_f1: 0.203654\n",
      "22960/22960 [==============================] - 55s 2ms/sample - loss: 1.4443 - acc: 0.7022 - val_loss: 2.2156 - val_acc: 0.3060\n",
      "Epoch 13/50\n",
      "22928/22960 [============================>.] - ETA: 0s - loss: 1.3590 - acc: 0.7128 — val_f1: 0.189269\n",
      "22960/22960 [==============================] - 55s 2ms/sample - loss: 1.3588 - acc: 0.7129 - val_loss: 2.1578 - val_acc: 0.3096\n",
      "Epoch 14/50\n",
      "22928/22960 [============================>.] - ETA: 0s - loss: 1.3214 - acc: 0.7155 — val_f1: 0.198720\n",
      "22960/22960 [==============================] - 55s 2ms/sample - loss: 1.3210 - acc: 0.7157 - val_loss: 2.1011 - val_acc: 0.3048\n",
      "Epoch 15/50\n",
      "22928/22960 [============================>.] - ETA: 0s - loss: 1.3151 - acc: 0.7204 — val_f1: 0.204947\n",
      "22960/22960 [==============================] - 55s 2ms/sample - loss: 1.3148 - acc: 0.7204 - val_loss: 2.0906 - val_acc: 0.3482\n",
      "Epoch 16/50\n",
      "22944/22960 [============================>.] - ETA: 0s - loss: 1.0325 - acc: 0.7955 — val_f1: 0.214010\n",
      "22960/22960 [==============================] - 55s 2ms/sample - loss: 1.0326 - acc: 0.7954 - val_loss: 1.9558 - val_acc: 0.4000\n",
      "Epoch 17/50\n",
      "22944/22960 [============================>.] - ETA: 0s - loss: 0.9015 - acc: 0.8153 — val_f1: 0.225994\n",
      "22960/22960 [==============================] - 55s 2ms/sample - loss: 0.9015 - acc: 0.8152 - val_loss: 1.8434 - val_acc: 0.4410\n",
      "Epoch 18/50\n",
      "22928/22960 [============================>.] - ETA: 0s - loss: 0.8281 - acc: 0.8262 — val_f1: 0.213458\n",
      "22960/22960 [==============================] - 55s 2ms/sample - loss: 0.8281 - acc: 0.8263 - val_loss: 1.7939 - val_acc: 0.4373\n",
      "Epoch 19/50\n",
      "22928/22960 [============================>.] - ETA: 0s - loss: 0.7749 - acc: 0.8340 — val_f1: 0.219728\n",
      "22960/22960 [==============================] - 55s 2ms/sample - loss: 0.7750 - acc: 0.8340 - val_loss: 1.7830 - val_acc: 0.4193\n",
      "Epoch 20/50\n",
      "22944/22960 [============================>.] - ETA: 0s - loss: 0.7320 - acc: 0.8460 — val_f1: 0.226435\n",
      "22960/22960 [==============================] - 55s 2ms/sample - loss: 0.7319 - acc: 0.8461 - val_loss: 1.7680 - val_acc: 0.4277\n",
      "Epoch 21/50\n",
      "22928/22960 [============================>.] - ETA: 0s - loss: 0.6963 - acc: 0.8563 — val_f1: 0.228119\n",
      "22960/22960 [==============================] - 55s 2ms/sample - loss: 0.6961 - acc: 0.8564 - val_loss: 1.7541 - val_acc: 0.4699\n",
      "Epoch 22/50\n",
      "22944/22960 [============================>.] - ETA: 0s - loss: 0.6730 - acc: 0.8600 — val_f1: 0.238348\n",
      "22960/22960 [==============================] - 56s 2ms/sample - loss: 0.6729 - acc: 0.8601 - val_loss: 1.7096 - val_acc: 0.4663\n",
      "Epoch 23/50\n",
      "22928/22960 [============================>.] - ETA: 0s - loss: 0.6447 - acc: 0.8715 — val_f1: 0.215304\n",
      "22960/22960 [==============================] - 55s 2ms/sample - loss: 0.6447 - acc: 0.8715 - val_loss: 1.7368 - val_acc: 0.4494\n",
      "Epoch 24/50\n",
      "22928/22960 [============================>.] - ETA: 0s - loss: 0.6234 - acc: 0.8748 — val_f1: 0.221389\n",
      "22960/22960 [==============================] - 55s 2ms/sample - loss: 0.6235 - acc: 0.8748 - val_loss: 1.7390 - val_acc: 0.4687\n",
      "Epoch 25/50\n",
      "22928/22960 [============================>.] - ETA: 0s - loss: 0.6027 - acc: 0.8859 — val_f1: 0.211952\n",
      "22960/22960 [==============================] - 55s 2ms/sample - loss: 0.6027 - acc: 0.8859 - val_loss: 1.7422 - val_acc: 0.4687\n",
      "Epoch 26/50\n",
      "22928/22960 [============================>.] - ETA: 0s - loss: 0.5794 - acc: 0.8960 — val_f1: 0.220390\n",
      "22960/22960 [==============================] - 55s 2ms/sample - loss: 0.5793 - acc: 0.8961 - val_loss: 1.7602 - val_acc: 0.4735\n",
      "Epoch 27/50\n",
      "22928/22960 [============================>.] - ETA: 0s - loss: 0.5648 - acc: 0.9022 — val_f1: 0.229908\n",
      "22960/22960 [==============================] - 55s 2ms/sample - loss: 0.5648 - acc: 0.9022 - val_loss: 1.7405 - val_acc: 0.4590\n",
      "Epoch 28/50\n",
      "22928/22960 [============================>.] - ETA: 0s - loss: 0.5458 - acc: 0.9075 — val_f1: 0.233784\n",
      "22960/22960 [==============================] - 55s 2ms/sample - loss: 0.5459 - acc: 0.9074 - val_loss: 1.7180 - val_acc: 0.4916\n",
      "Epoch 29/50\n",
      "22928/22960 [============================>.] - ETA: 0s - loss: 0.5314 - acc: 0.9132 — val_f1: 0.233502\n",
      "22960/22960 [==============================] - 55s 2ms/sample - loss: 0.5315 - acc: 0.9131 - val_loss: 1.7829 - val_acc: 0.4867\n",
      "Epoch 30/50\n",
      "22928/22960 [============================>.] - ETA: 0s - loss: 0.5144 - acc: 0.9201 — val_f1: 0.234261\n",
      "22960/22960 [==============================] - 55s 2ms/sample - loss: 0.5145 - acc: 0.9201 - val_loss: 1.7598 - val_acc: 0.5072\n",
      "Epoch 31/50\n",
      "22928/22960 [============================>.] - ETA: 0s - loss: 0.5031 - acc: 0.9235 — val_f1: 0.221296\n",
      "22960/22960 [==============================] - 55s 2ms/sample - loss: 0.5031 - acc: 0.9236 - val_loss: 1.7878 - val_acc: 0.4904\n",
      "Epoch 32/50\n",
      "22928/22960 [============================>.] - ETA: 0s - loss: 0.4887 - acc: 0.9282 — val_f1: 0.219123\n",
      "22960/22960 [==============================] - 55s 2ms/sample - loss: 0.4887 - acc: 0.9283 - val_loss: 1.7485 - val_acc: 0.5060\n",
      "Epoch 33/50\n",
      "22944/22960 [============================>.] - ETA: 0s - loss: 0.4729 - acc: 0.9362 — val_f1: 0.225093\n",
      "22960/22960 [==============================] - 55s 2ms/sample - loss: 0.4728 - acc: 0.9362 - val_loss: 1.7629 - val_acc: 0.5157\n",
      "Epoch 34/50\n",
      "22928/22960 [============================>.] - ETA: 0s - loss: 0.4638 - acc: 0.9376 — val_f1: 0.221953\n",
      "22960/22960 [==============================] - 55s 2ms/sample - loss: 0.4639 - acc: 0.9375 - val_loss: 1.8010 - val_acc: 0.5084\n",
      "Epoch 35/50\n",
      "22928/22960 [============================>.] - ETA: 0s - loss: 0.4486 - acc: 0.9435 — val_f1: 0.220210\n",
      "22960/22960 [==============================] - 55s 2ms/sample - loss: 0.4485 - acc: 0.9436 - val_loss: 1.7647 - val_acc: 0.5229\n",
      "Epoch 36/50\n",
      "22928/22960 [============================>.] - ETA: 0s - loss: 0.4405 - acc: 0.9464 — val_f1: 0.218363\n",
      "22960/22960 [==============================] - 55s 2ms/sample - loss: 0.4404 - acc: 0.9464 - val_loss: 1.8159 - val_acc: 0.5084\n",
      "Epoch 37/50\n",
      "22928/22960 [============================>.] - ETA: 0s - loss: 0.4287 - acc: 0.9492 — val_f1: 0.222039\n",
      "22960/22960 [==============================] - 55s 2ms/sample - loss: 0.4288 - acc: 0.9491 - val_loss: 1.8671 - val_acc: 0.5169\n",
      "Epoch 38/50\n",
      "22928/22960 [============================>.] - ETA: 0s - loss: 0.4181 - acc: 0.9532 — val_f1: 0.244082\n",
      "22960/22960 [==============================] - 55s 2ms/sample - loss: 0.4182 - acc: 0.9532 - val_loss: 1.8398 - val_acc: 0.5542\n",
      "Epoch 39/50\n",
      "22928/22960 [============================>.] - ETA: 0s - loss: 0.4108 - acc: 0.9549 — val_f1: 0.227846\n",
      "22960/22960 [==============================] - 55s 2ms/sample - loss: 0.4109 - acc: 0.9548 - val_loss: 1.8500 - val_acc: 0.5422\n",
      "Epoch 40/50\n",
      "22928/22960 [============================>.] - ETA: 0s - loss: 0.3981 - acc: 0.9592 — val_f1: 0.220416\n",
      "22960/22960 [==============================] - 55s 2ms/sample - loss: 0.3981 - acc: 0.9592 - val_loss: 1.8297 - val_acc: 0.5434\n",
      "Epoch 41/50\n",
      "22928/22960 [============================>.] - ETA: 0s - loss: 0.3916 - acc: 0.9614 — val_f1: 0.221962\n",
      "22960/22960 [==============================] - 55s 2ms/sample - loss: 0.3915 - acc: 0.9615 - val_loss: 1.8305 - val_acc: 0.5265\n",
      "Epoch 42/50\n",
      "22944/22960 [============================>.] - ETA: 0s - loss: 0.3851 - acc: 0.9620 — val_f1: 0.225672\n",
      "22960/22960 [==============================] - 55s 2ms/sample - loss: 0.3852 - acc: 0.9619 - val_loss: 1.8700 - val_acc: 0.5313\n",
      "Epoch 43/50\n",
      "22928/22960 [============================>.] - ETA: 0s - loss: 0.3743 - acc: 0.9639 — val_f1: 0.220147\n",
      "22960/22960 [==============================] - 55s 2ms/sample - loss: 0.3743 - acc: 0.9639 - val_loss: 1.9420 - val_acc: 0.5157\n",
      "Epoch 44/50\n",
      "22944/22960 [============================>.] - ETA: 0s - loss: 0.3706 - acc: 0.9650 — val_f1: 0.216154\n",
      "22960/22960 [==============================] - 55s 2ms/sample - loss: 0.3706 - acc: 0.9650 - val_loss: 1.9048 - val_acc: 0.5217\n",
      "Epoch 45/50\n",
      "22928/22960 [============================>.] - ETA: 0s - loss: 0.3657 - acc: 0.9661 — val_f1: 0.213585\n",
      "22960/22960 [==============================] - 55s 2ms/sample - loss: 0.3656 - acc: 0.9661 - val_loss: 1.8866 - val_acc: 0.5084\n",
      "Epoch 46/50\n",
      "22928/22960 [============================>.] - ETA: 0s - loss: 0.3514 - acc: 0.9715 — val_f1: 0.226303\n",
      "22960/22960 [==============================] - 55s 2ms/sample - loss: 0.3514 - acc: 0.9715 - val_loss: 1.9321 - val_acc: 0.5554\n",
      "Epoch 47/50\n",
      "22928/22960 [============================>.] - ETA: 0s - loss: 0.3489 - acc: 0.9698 — val_f1: 0.228665\n",
      "22960/22960 [==============================] - 55s 2ms/sample - loss: 0.3489 - acc: 0.9698 - val_loss: 1.9064 - val_acc: 0.5289\n",
      "Epoch 48/50\n",
      "22928/22960 [============================>.] - ETA: 0s - loss: 0.3396 - acc: 0.9734 — val_f1: 0.236916\n",
      "22960/22960 [==============================] - 55s 2ms/sample - loss: 0.3398 - acc: 0.9733 - val_loss: 1.9512 - val_acc: 0.5337\n",
      "Epoch 49/50\n",
      "22928/22960 [============================>.] - ETA: 0s - loss: 0.3346 - acc: 0.9731 — val_f1: 0.223627\n",
      "22960/22960 [==============================] - 55s 2ms/sample - loss: 0.3348 - acc: 0.9731 - val_loss: 2.0021 - val_acc: 0.5361\n",
      "Epoch 50/50\n",
      "22928/22960 [============================>.] - ETA: 0s - loss: 0.3349 - acc: 0.9730 — val_f1: 0.214666\n",
      "22960/22960 [==============================] - 56s 2ms/sample - loss: 0.3348 - acc: 0.9730 - val_loss: 1.9433 - val_acc: 0.5361\n"
     ]
    },
    {
     "data": {
      "text/plain": [
       "Text(0.5, 1.0, 'Validation F1 Scores')"
      ]
     },
     "execution_count": 35,
     "metadata": {
      "tags": []
     },
     "output_type": "execute_result"
    },
    {
     "data": {
      "image/png": "[encoded data removed]",
      "text/plain": [
       "<Figure size 576x576 with 3 Axes>"
      ]
     },
     "metadata": {
      "tags": []
     },
     "output_type": "display_data"
    }
   ],
   "source": [
    "optimizer = Adam(learning_rate=LR)\n",
    "# optimizer = SGD(learning_rate=LR)\n",
    "\n",
    "model.compile(loss='sparse_categorical_crossentropy', optimizer=optimizer, metrics=['acc'])\n",
    "\n",
    "metrics = Metrics()\n",
    "\n",
    "callbacks = [ LearningRateScheduler(lr_scheduler), metrics ]\n",
    "\n",
    "history = model.fit(X_train_sm, y_train_sm, batch_size=BATCH_SIZE, epochs=EPOCHS, \n",
    "                    shuffle=True, validation_data=(X_val, y_val), callbacks=callbacks)\n",
    "\n",
    "acc = history.history['acc']\n",
    "val_acc = history.history['val_acc']\n",
    "\n",
    "loss = history.history['loss']\n",
    "val_loss = history.history['val_loss']\n",
    "\n",
    "epochs_range = range(EPOCHS)\n",
    "\n",
    "plt.figure(figsize=(8, 8))\n",
    "plt.subplot(1, 3, 1)\n",
    "plt.plot(epochs_range, acc, label='Training Accuracy')\n",
    "plt.plot(epochs_range, val_acc, label='Validation Accuracy')\n",
    "plt.legend(loc='lower right')\n",
    "plt.title('Training and Validation Accuracy')\n",
    "\n",
    "plt.subplot(1, 3, 2)\n",
    "plt.plot(epochs_range, loss, label='Training Loss')\n",
    "plt.plot(epochs_range, val_loss, label='Validation Loss')\n",
    "plt.legend(loc='upper right')\n",
    "plt.title('Training and Validation Loss')\n",
    "\n",
    "plt.subplot(1, 3, 3)\n",
    "plt.plot(epochs_range, metrics.val_f1s, label='Validation F1')\n",
    "plt.legend(loc='lower right')\n",
    "plt.title('Validation F1 Scores')"
   ]
  },
  {
   "cell_type": "markdown",
   "metadata": {},
   "source": [
    "* From the loss graph, we can comprehend that the model first trains well, and then begins to overfit as the loss starts to increase.\n",
    "* Training and validation accuracy have sufficient but not too much gap. This shows neither overfitted nor underfitted.\n",
    "* We keep the model with the best validation F1 scores, becuase our goal is to build a model which can give best macro average F1 score."
   ]
  },
  {
   "cell_type": "markdown",
   "metadata": {
    "colab_type": "text",
    "id": "tCjiB_vTQvOC"
   },
   "source": [
    "##### Load the best model"
   ]
  },
  {
   "cell_type": "code",
   "execution_count": null,
   "metadata": {
    "colab": {
     "base_uri": "https://localhost:8080/",
     "height": 190
    },
    "colab_type": "code",
    "id": "JnrCXAfzPEQY",
    "outputId": "7cc4ba36-70e0-4d6c-e3bb-b1eccd893356"
   },
   "outputs": [],
   "source": [
    "model.load_weights(\"model.h5\")"
   ]
  },
  {
   "cell_type": "markdown",
   "metadata": {},
   "source": [
    "##### Define a function which can display confusion matrix, and various other metrics like precision, recall and F1 scores."
   ]
  },
  {
   "cell_type": "code",
   "execution_count": 0,
   "metadata": {
    "colab": {},
    "colab_type": "code",
    "id": "vHG8W4LGqzp2"
   },
   "outputs": [],
   "source": [
    "def evaluate_model(y, y_pred):\n",
    "    print(classification_report(y_true, y_pred, target_names=EMOTIONS))\n",
    "\n",
    "    cm = confusion_matrix(y, y_pred)\n",
    "    # cm = cm / cm.astype(np.float).sum(axis=0)\n",
    "\n",
    "    fig = plt.figure()\n",
    "    ax = fig.add_subplot(111)\n",
    "    cax = ax.matshow(cm)\n",
    "    fig.colorbar(cax)\n",
    "\n",
    "    ax.set_xticklabels(['']+EMOTIONS)\n",
    "    ax.set_yticklabels(['']+EMOTIONS)\n",
    "\n",
    "    plt.show()"
   ]
  },
  {
   "cell_type": "markdown",
   "metadata": {
    "colab_type": "text",
    "id": "y_r891VkQkYJ"
   },
   "source": [
    "##### Evaluation of validation set:"
   ]
  },
  {
   "cell_type": "code",
   "execution_count": 18,
   "metadata": {
    "colab": {
     "base_uri": "https://localhost:8080/",
     "height": 475
    },
    "colab_type": "code",
    "id": "UgL530GUvFFX",
    "outputId": "1f23e865-31e6-4945-a15f-c358a9a37c1f"
   },
   "outputs": [
    {
     "name": "stdout",
     "output_type": "stream",
     "text": [
      "              precision    recall  f1-score   support\n",
      "\n",
      "     disgust       0.04      0.04      0.04        28\n",
      "       happy       0.29      0.31      0.30       181\n",
      "         sad       0.16      0.16      0.16        79\n",
      "        fear       0.08      0.08      0.08        25\n",
      "     neutral       0.67      0.65      0.66       517\n",
      "\n",
      "    accuracy                           0.49       830\n",
      "   macro avg       0.25      0.25      0.25       830\n",
      "weighted avg       0.50      0.49      0.50       830\n",
      "\n"
     ]
    },
    {
     "data": {
      "image/png": "[encoded data removed]",
      "text/plain": [
       "<Figure size 432x288 with 2 Axes>"
      ]
     },
     "metadata": {
      "tags": []
     },
     "output_type": "display_data"
    }
   ],
   "source": [
    "y_true = y_val\n",
    "y_pred = np.argmax(model.predict(X_val), axis=1)\n",
    "evaluate_model(y_true, y_pred)"
   ]
  },
  {
   "cell_type": "markdown",
   "metadata": {
    "colab_type": "text",
    "id": "1Bet2NN1Q-Hi"
   },
   "source": [
    "##### Evaluation of training set:"
   ]
  },
  {
   "cell_type": "code",
   "execution_count": 19,
   "metadata": {
    "colab": {
     "base_uri": "https://localhost:8080/",
     "height": 475
    },
    "colab_type": "code",
    "id": "TlgqrjDs5VDU",
    "outputId": "7a8f0e55-9604-4133-e229-1eb07d20ff3c"
   },
   "outputs": [
    {
     "name": "stdout",
     "output_type": "stream",
     "text": [
      "              precision    recall  f1-score   support\n",
      "\n",
      "     disgust       0.97      0.98      0.98      4592\n",
      "       happy       0.80      0.74      0.77      4592\n",
      "         sad       0.86      0.82      0.84      4592\n",
      "        fear       0.98      0.99      0.99      4592\n",
      "     neutral       0.68      0.75      0.71      4592\n",
      "\n",
      "    accuracy                           0.86     22960\n",
      "   macro avg       0.86      0.86      0.86     22960\n",
      "weighted avg       0.86      0.86      0.86     22960\n",
      "\n"
     ]
    },
    {
     "data": {
      "image/png": "[encoded data removed]",
      "text/plain": [
       "<Figure size 432x288 with 2 Axes>"
      ]
     },
     "metadata": {
      "tags": []
     },
     "output_type": "display_data"
    }
   ],
   "source": [
    "y_true = y_train_sm\n",
    "y_pred = np.argmax(model.predict(X_train_sm), axis=1)\n",
    "evaluate_model(y_true, y_pred)"
   ]
  },
  {
   "cell_type": "markdown",
   "metadata": {
    "colab_type": "text",
    "id": "TelTxA5DRBDr"
   },
   "source": [
    "##### Evaluation when the model predicts only the majority class (establish baseline):"
   ]
  },
  {
   "cell_type": "code",
   "execution_count": 20,
   "metadata": {
    "colab": {
     "base_uri": "https://localhost:8080/",
     "height": 529
    },
    "colab_type": "code",
    "id": "TN2wmZpO6SiU",
    "outputId": "f177ff04-b29e-4b4a-b473-c7003a05377d"
   },
   "outputs": [
    {
     "name": "stdout",
     "output_type": "stream",
     "text": [
      "              precision    recall  f1-score   support\n",
      "\n",
      "     disgust       0.00      0.00      0.00        28\n",
      "       happy       0.00      0.00      0.00       181\n",
      "         sad       0.00      0.00      0.00        79\n",
      "        fear       0.00      0.00      0.00        25\n",
      "     neutral       0.62      1.00      0.77       517\n",
      "\n",
      "    accuracy                           0.62       830\n",
      "   macro avg       0.12      0.20      0.15       830\n",
      "weighted avg       0.39      0.62      0.48       830\n",
      "\n"
     ]
    },
    {
     "name": "stderr",
     "output_type": "stream",
     "text": [
      "/usr/local/lib/python3.6/dist-packages/sklearn/metrics/classification.py:1437: UndefinedMetricWarning: Precision and F-score are ill-defined and being set to 0.0 in labels with no predicted samples.\n",
      "  'precision', 'predicted', average, warn_for)\n"
     ]
    },
    {
     "data": {
      "image/png": "[encoded data removed]",
      "text/plain": [
       "<Figure size 432x288 with 2 Axes>"
      ]
     },
     "metadata": {
      "tags": []
     },
     "output_type": "display_data"
    }
   ],
   "source": [
    "y_true = y_val\n",
    "y_pred = np.array([4]*830)\n",
    "evaluate_model(y_true, y_pred)"
   ]
  },
  {
   "cell_type": "markdown",
   "metadata": {
    "colab_type": "text",
    "id": "5gMpxCNdbmQU"
   },
   "source": [
    "# Method 2: Generate spectrograms and apply CNN for classification <a id='method2'></a>"
   ]
  },
  {
   "cell_type": "markdown",
   "metadata": {
    "colab_type": "text",
    "id": "I8qL_yu_BW0I"
   },
   "source": [
    "Import Modules"
   ]
  },
  {
   "cell_type": "code",
   "execution_count": 0,
   "metadata": {
    "colab": {},
    "colab_type": "code",
    "id": "2rS2F_IrcbT1"
   },
   "outputs": [],
   "source": [
    "import os\n",
    "import librosa\n",
    "import librosa.display\n",
    "import numpy as np\n",
    "from tqdm import tqdm\n",
    "from glob import glob\n",
    "from scipy.signal import stft\n",
    "import random\n",
    "from matplotlib import pyplot as plt\n",
    "from sklearn.utils import class_weight\n",
    "from sklearn.metrics import classification_report, f1_score\n",
    "\n",
    "from tensorflow.keras.layers import InputLayer, Flatten, Dense, Dropout, MaxPool2D, Conv2D\n",
    "from tensorflow.keras import Sequential\n",
    "from tensorflow.keras.callbacks import EarlyStopping, ModelCheckpoint, LearningRateScheduler\n",
    "from tensorflow.keras.backend import clear_session\n",
    "from tensorflow.keras.optimizers import Adam, SGD\n",
    "import tensorflow.keras.backend as K\n",
    "from tensorflow.keras.callbacks import Callback\n",
    "from tensorflow.keras.applications.vgg16 import VGG16\n",
    "from tensorflow.keras.applications.resnet import ResNet50\n",
    "from tensorflow.keras import regularizers"
   ]
  },
  {
   "cell_type": "code",
   "execution_count": 0,
   "metadata": {
    "colab": {},
    "colab_type": "code",
    "id": "9FYlVFcda46q"
   },
   "outputs": [],
   "source": [
    "EPOCHS = 50\n",
    "LR = 0.0001\n",
    "BATCH_SIZE = 16\n",
    "DROPOUT_RATE = 0.5\n",
    "REG_STRENGTH = 0.01\n",
    "\n",
    "EMOTIONS = [\"disgust\", \"happy\", \"sad\", \"fear\", \"neutral\"]"
   ]
  },
  {
   "cell_type": "markdown",
   "metadata": {
    "colab_type": "text",
    "id": "VE2LFHPTBZDX"
   },
   "source": [
    "This function takes a .wav file path as input and generates a spectrogram of spec_type (which can be mel spectrogram, mfcc or stft)."
   ]
  },
  {
   "cell_type": "code",
   "execution_count": 0,
   "metadata": {
    "colab": {},
    "colab_type": "code",
    "id": "kd2spZI9huV-"
   },
   "outputs": [],
   "source": [
    "def process_wav_file(file_path, spec_type):\n",
    "    y, sr = librosa.load(file_path)\n",
    "    y = y.astype(np.float32) / np.iinfo(np.int16).max # Normalize\n",
    "    L = 71000\n",
    "\n",
    "    if len(y) > L:\n",
    "        i = np.random.randint(0, len(y) - L)\n",
    "        y = y[i:(i+L)]  \n",
    "\n",
    "    elif len(y) < L:\n",
    "        rem_len = L - len(y)\n",
    "        silence_part = np.random.randint(-100,100,L).astype(np.float32) / np.iinfo(np.int16).max\n",
    "        j = np.random.randint(0, rem_len)\n",
    "        silence_part_left  = silence_part[0:j]\n",
    "        silence_part_right = silence_part[j:rem_len]\n",
    "        y = np.concatenate([silence_part_left, y, silence_part_right])\n",
    "\n",
    "    if spec_type == 'mel':\n",
    "        spec = librosa.feature.melspectrogram(y=y, sr=sr, n_fft=2048, n_mels=128, hop_length=512)\n",
    "        spec_db = librosa.power_to_db(spec, ref=np.max)\n",
    "        return np.expand_dims(spec_db, axis=2)\n",
    "\n",
    "    if spec_type == 'stft':\n",
    "        eps=1e-10\n",
    "        threshold_freq = 5500\n",
    "\n",
    "        freqs, times, spec = stft(y, L, nperseg = 400, noverlap = 240, nfft = 512, padded = False, boundary = None)\n",
    "        \n",
    "        if threshold_freq is not None:\n",
    "            spec = spec[freqs <= threshold_freq,:]\n",
    "            freqs = freqs[freqs <= threshold_freq]\n",
    "\n",
    "        amp = np.log(np.abs(spec)+eps)\n",
    "    \n",
    "        return np.expand_dims(amp, axis=2)\n",
    "\n",
    "    if spec_type == 'mfcc':\n",
    "        mfccs = librosa.feature.mfcc(y=y, sr=sr, n_mfcc=128)\n",
    "        return np.expand_dims(mfccs, axis=2)"
   ]
  },
  {
   "cell_type": "markdown",
   "metadata": {
    "colab_type": "text",
    "id": "MEcapioBBz2G"
   },
   "source": [
    "Function to create training and validation sets."
   ]
  },
  {
   "cell_type": "code",
   "execution_count": 0,
   "metadata": {
    "colab": {},
    "colab_type": "code",
    "id": "Lw_GNK1ajJak"
   },
   "outputs": [],
   "source": [
    "def create_dataset(spec_type):\n",
    "    X_train = []\n",
    "    y_train = []\n",
    "\n",
    "    DIR = \"/mntDrive/My Drive/meld/train\"\n",
    "\n",
    "    wav_files = glob(DIR+\"/*/*.wav\")\n",
    "    wav_files = [x.split(sep='/')[5] + '/' + x.split(sep='/')[6] for x in wav_files]\n",
    "\n",
    "    for wav_file in wav_files:\n",
    "        label, name = wav_file.split('/')\n",
    "        label_id = EMOTIONS.index(label)  \n",
    "        file_name = os.path.join(DIR, wav_file)\n",
    "        X_train.append(process_wav_file(file_name, spec_type))\n",
    "        y_train.append(label_id)\n",
    "\n",
    "    X_val = []\n",
    "    y_val = []\n",
    "\n",
    "    DIR = \"/mntDrive/My Drive/meld/val\"\n",
    "\n",
    "    wav_files = glob(DIR+\"/*/*.wav\")\n",
    "    wav_files = [x.split(sep='/')[5] + '/' + x.split(sep='/')[6] for x in wav_files]\n",
    "\n",
    "    for wav_file in wav_files:\n",
    "        label, name = wav_file.split('/')\n",
    "        label_id = EMOTIONS.index(label)  \n",
    "        file_name = os.path.join(DIR, wav_file)\n",
    "        X_val.append(process_wav_file(file_name, spec_type))\n",
    "        y_val.append(label_id)\n",
    "\n",
    "    X_train = np.array(X_train, 'float32')\n",
    "    y_train = np.array(y_train)\n",
    "    X_val = np.array(X_val, 'float32')\n",
    "    y_val = np.array(y_val)\n",
    "\n",
    "    mean = np.mean(X_train, axis = 0)\n",
    "    std = np.std(X_train, axis = 0)\n",
    "\n",
    "    X_train -= mean\n",
    "    X_val -= mean\n",
    "\n",
    "    X_train /= std\n",
    "    X_val /= std\n",
    "    \n",
    "    return X_train, y_train, X_val, y_val"
   ]
  },
  {
   "cell_type": "markdown",
   "metadata": {
    "colab_type": "text",
    "id": "KGVh2ErFDaoW"
   },
   "source": [
    "Create a keras model having a VGG16 or ResNet50 architecture."
   ]
  },
  {
   "cell_type": "code",
   "execution_count": 0,
   "metadata": {
    "colab": {},
    "colab_type": "code",
    "id": "dQyDX5qr45WA"
   },
   "outputs": [],
   "source": [
    "def create_model(model_type, input_shape):\n",
    "    \"\"\"Returns tensorflow Sequential keras model\"\"\"\n",
    "    model = Sequential()\n",
    "    if model_type == 'vgg':\n",
    "        model.add(VGG16(include_top=False, weights=None, input_shape=input_shape))\n",
    "    if model_type == 'resnet':\n",
    "        model.add(ResNet50(include_top=False, weights=None, input_shape=input_shape))\n",
    "    model.add(Flatten())\n",
    "    model.add(Dense(4096, activation='relu', kernel_regularizer=regularizers.l2(REG_STRENGTH)))\n",
    "    model.add(Dropout(DROPOUT_RATE))\n",
    "    model.add(Dense(4096, activation='relu', kernel_regularizer=regularizers.l2(REG_STRENGTH)))\n",
    "    model.add(Dropout(DROPOUT_RATE))\n",
    "    model.add(Dense(5, activation='softmax'))\n",
    "\n",
    "    return model"
   ]
  },
  {
   "cell_type": "code",
   "execution_count": 0,
   "metadata": {
    "colab": {
     "base_uri": "https://localhost:8080/",
     "height": 34
    },
    "colab_type": "code",
    "id": "G4z_Lct4Xq5Z",
    "outputId": "05be1294-22c5-4303-f9f6-4af4f8c5a2e1"
   },
   "outputs": [
    {
     "name": "stdout",
     "output_type": "stream",
     "text": [
      "(7361, 128, 139, 1) (7361,) (830, 128, 139, 1) (830,) (128, 139, 1)\n"
     ]
    }
   ],
   "source": [
    "DIR = \"/mntDrive/My Drive/meld/mel_data/\"\n",
    "\n",
    "X_train = np.load(DIR+\"X_train.npy\")\n",
    "y_train = np.load(DIR+\"y_train.npy\")\n",
    "X_val = np.load(DIR+\"X_val.npy\")\n",
    "y_val = np.load(DIR+\"y_val.npy\")\n",
    "input_shape = X_train[0].shape\n",
    "\n",
    "print(X_train.shape, y_train.shape, X_val.shape, y_val.shape, input_shape)"
   ]
  },
  {
   "cell_type": "code",
   "execution_count": 0,
   "metadata": {
    "colab": {
     "base_uri": "https://localhost:8080/",
     "height": 269
    },
    "colab_type": "code",
    "id": "MxshzoZCsCxu",
    "outputId": "035bb1a1-8fe6-4a65-e682-a099c335a3f4"
   },
   "outputs": [
    {
     "data": {
      "text/plain": [
       "<matplotlib.axes._subplots.AxesSubplot at 0x7fd0843cd940>"
      ]
     },
     "execution_count": 55,
     "metadata": {
      "tags": []
     },
     "output_type": "execute_result"
    },
    {
     "data": {
      "image/png": "[encoded data removed]",
      "text/plain": [
       "<Figure size 432x288 with 1 Axes>"
      ]
     },
     "metadata": {
      "tags": []
     },
     "output_type": "display_data"
    }
   ],
   "source": [
    "sf = '/mntDrive/My Drive/meld/train/happy/MEL_dia1024_utt11_positive_HAP.wav'\n",
    "y, sr = librosa.load(sf)\n",
    "y = y[:71000]\n",
    "spec = librosa.feature.melspectrogram(y=y, sr=sr, n_fft=2048, n_mels=128, hop_length=512)\n",
    "spec_db = librosa.power_to_db(spec, ref=np.max)\n",
    "librosa.display.specshow(spec_db)"
   ]
  },
  {
   "cell_type": "markdown",
   "metadata": {
    "colab_type": "text",
    "id": "vO8wofVIEKRq"
   },
   "source": [
    "Define a custom callback so we can track the macro avg f1 scores of the model on validation set, and save the model which gives best F1 score."
   ]
  },
  {
   "cell_type": "code",
   "execution_count": 0,
   "metadata": {
    "colab": {},
    "colab_type": "code",
    "id": "aFbLHsu6jODd"
   },
   "outputs": [],
   "source": [
    "class Metrics(Callback):\n",
    "    def on_train_begin(self, logs={}):\n",
    "        self.val_f1s = []\n",
    "        self.max_f1 = 0.0\n",
    " \n",
    "    def on_epoch_end(self, epoch, logs={}):\n",
    "        y_pred = np.argmax(self.model.predict(X_val), axis=1)\n",
    "        y_true = y_val\n",
    "        _val_f1 = f1_score(y_true, y_pred, average='macro')\n",
    "        self.val_f1s.append(_val_f1)\n",
    "        print (\" — val_f1: %f\" %(_val_f1))\n",
    "\n",
    "        if _val_f1 > self.max_f1:\n",
    "            self.model.save_weights('model.h5')\n",
    "            self.max_f1 = _val_f1\n",
    "\n",
    "        return"
   ]
  },
  {
   "cell_type": "markdown",
   "metadata": {
    "colab_type": "text",
    "id": "s__dHDl1EQYb"
   },
   "source": [
    "Create model instance."
   ]
  },
  {
   "cell_type": "code",
   "execution_count": 0,
   "metadata": {
    "colab": {
     "base_uri": "https://localhost:8080/",
     "height": 391
    },
    "colab_type": "code",
    "id": "0UnuR5mw43Y7",
    "outputId": "3f902d16-6744-4604-ced1-961b17d62c29"
   },
   "outputs": [
    {
     "name": "stdout",
     "output_type": "stream",
     "text": [
      "Model: \"sequential\"\n",
      "_________________________________________________________________\n",
      "Layer (type)                 Output Shape              Param #   \n",
      "=================================================================\n",
      "vgg16 (Model)                (None, 4, 4, 512)         14713536  \n",
      "_________________________________________________________________\n",
      "flatten (Flatten)            (None, 8192)              0         \n",
      "_________________________________________________________________\n",
      "dense (Dense)                (None, 4096)              33558528  \n",
      "_________________________________________________________________\n",
      "dropout (Dropout)            (None, 4096)              0         \n",
      "_________________________________________________________________\n",
      "dense_1 (Dense)              (None, 4096)              16781312  \n",
      "_________________________________________________________________\n",
      "dropout_1 (Dropout)          (None, 4096)              0         \n",
      "_________________________________________________________________\n",
      "dense_2 (Dense)              (None, 5)                 20485     \n",
      "=================================================================\n",
      "Total params: 65,073,861\n",
      "Trainable params: 65,073,861\n",
      "Non-trainable params: 0\n",
      "_________________________________________________________________\n"
     ]
    }
   ],
   "source": [
    "clear_session()\n",
    "model = create_model('vgg', input_shape)\n",
    "model.summary()"
   ]
  },
  {
   "cell_type": "markdown",
   "metadata": {
    "colab_type": "text",
    "id": "M_27b93ZEUfw"
   },
   "source": [
    "Build class weights."
   ]
  },
  {
   "cell_type": "code",
   "execution_count": 0,
   "metadata": {
    "colab": {},
    "colab_type": "code",
    "id": "TCnSp5AfBKTk"
   },
   "outputs": [],
   "source": [
    "class_weights = class_weight.compute_class_weight('balanced', np.unique(y_train), y_train)"
   ]
  },
  {
   "cell_type": "code",
   "execution_count": 0,
   "metadata": {
    "colab": {},
    "colab_type": "code",
    "id": "U4dgJ8EFU8fa"
   },
   "outputs": [],
   "source": [
    "def lr_scheduler(epoch):\n",
    "    if epoch<20:\n",
    "        return 0.0001\n",
    "    return 0.00001"
   ]
  },
  {
   "cell_type": "markdown",
   "metadata": {
    "colab_type": "text",
    "id": "pgCTU9dJEZos"
   },
   "source": [
    "Train model and tune hyperparameters."
   ]
  },
  {
   "cell_type": "code",
   "execution_count": 0,
   "metadata": {
    "colab": {
     "base_uri": "https://localhost:8080/",
     "height": 1000
    },
    "colab_type": "code",
    "id": "0U20KtqTBMOy",
    "outputId": "1df56981-4bc4-4919-f8e4-275a2b641f65"
   },
   "outputs": [
    {
     "name": "stdout",
     "output_type": "stream",
     "text": [
      "Train on 7361 samples, validate on 830 samples\n",
      "Epoch 1/50\n",
      "7360/7361 [============================>.] - ETA: 0s - loss: 19.0665 - acc: 0.6217"
     ]
    },
    {
     "name": "stderr",
     "output_type": "stream",
     "text": [
      "/usr/local/lib/python3.6/dist-packages/sklearn/metrics/classification.py:1437: UndefinedMetricWarning: F-score is ill-defined and being set to 0.0 in labels with no predicted samples.\n",
      "  'precision', 'predicted', average, warn_for)\n"
     ]
    },
    {
     "name": "stdout",
     "output_type": "stream",
     "text": [
      " — val_f1: 0.153526\n",
      "7361/7361 [==============================] - 133s 18ms/sample - loss: 19.0640 - acc: 0.6218 - val_loss: 1.8281 - val_acc: 0.6229\n",
      "Epoch 2/50\n",
      "7360/7361 [============================>.] - ETA: 0s - loss: 1.3358 - acc: 0.6249 — val_f1: 0.153526\n",
      "7361/7361 [==============================] - 133s 18ms/sample - loss: 1.3358 - acc: 0.6248 - val_loss: 1.1570 - val_acc: 0.6229\n",
      "Epoch 3/50\n",
      "7360/7361 [============================>.] - ETA: 0s - loss: 1.1142 - acc: 0.6247 — val_f1: 0.153526\n",
      "7361/7361 [==============================] - 131s 18ms/sample - loss: 1.1141 - acc: 0.6248 - val_loss: 1.0957 - val_acc: 0.6229\n",
      "Epoch 4/50\n",
      "7360/7361 [============================>.] - ETA: 0s - loss: 1.0894 - acc: 0.6247 — val_f1: 0.153526\n",
      "7361/7361 [==============================] - 132s 18ms/sample - loss: 1.0893 - acc: 0.6248 - val_loss: 1.0885 - val_acc: 0.6229\n",
      "Epoch 5/50\n",
      "7360/7361 [============================>.] - ETA: 0s - loss: 1.0829 - acc: 0.6247 — val_f1: 0.153526\n",
      "7361/7361 [==============================] - 132s 18ms/sample - loss: 1.0828 - acc: 0.6248 - val_loss: 1.0979 - val_acc: 0.6229\n",
      "Epoch 6/50\n",
      "7360/7361 [============================>.] - ETA: 0s - loss: 1.0812 - acc: 0.6247 — val_f1: 0.153526\n",
      "7361/7361 [==============================] - 131s 18ms/sample - loss: 1.0812 - acc: 0.6248 - val_loss: 1.0829 - val_acc: 0.6229\n",
      "Epoch 7/50\n",
      "7360/7361 [============================>.] - ETA: 0s - loss: 1.0767 - acc: 0.6249 — val_f1: 0.153526\n",
      "7361/7361 [==============================] - 131s 18ms/sample - loss: 1.0769 - acc: 0.6248 - val_loss: 1.0801 - val_acc: 0.6229\n",
      "Epoch 8/50\n",
      "7360/7361 [============================>.] - ETA: 0s - loss: 1.0736 - acc: 0.6247 — val_f1: 0.153526\n",
      "7361/7361 [==============================] - 132s 18ms/sample - loss: 1.0735 - acc: 0.6248 - val_loss: 1.0797 - val_acc: 0.6229\n",
      "Epoch 9/50\n",
      "7360/7361 [============================>.] - ETA: 0s - loss: 1.0776 - acc: 0.6247 — val_f1: 0.153526\n",
      "7361/7361 [==============================] - 132s 18ms/sample - loss: 1.0775 - acc: 0.6248 - val_loss: 1.0813 - val_acc: 0.6229\n",
      "Epoch 10/50\n",
      "7360/7361 [============================>.] - ETA: 0s - loss: 1.0692 - acc: 0.6247 — val_f1: 0.153526\n",
      "7361/7361 [==============================] - 131s 18ms/sample - loss: 1.0691 - acc: 0.6248 - val_loss: 1.0806 - val_acc: 0.6229\n",
      "Epoch 11/50\n",
      "7360/7361 [============================>.] - ETA: 0s - loss: 1.0661 - acc: 0.6249 — val_f1: 0.153526\n",
      "7361/7361 [==============================] - 131s 18ms/sample - loss: 1.0662 - acc: 0.6248 - val_loss: 1.0857 - val_acc: 0.6229\n",
      "Epoch 12/50\n",
      "7360/7361 [============================>.] - ETA: 0s - loss: 1.0665 - acc: 0.6247 — val_f1: 0.153526\n",
      "7361/7361 [==============================] - 132s 18ms/sample - loss: 1.0665 - acc: 0.6248 - val_loss: 1.0736 - val_acc: 0.6229\n",
      "Epoch 13/50\n",
      "7360/7361 [============================>.] - ETA: 0s - loss: 1.0663 - acc: 0.6247 — val_f1: 0.153526\n",
      "7361/7361 [==============================] - 132s 18ms/sample - loss: 1.0662 - acc: 0.6248 - val_loss: 1.0733 - val_acc: 0.6229\n",
      "Epoch 14/50\n",
      "7360/7361 [============================>.] - ETA: 0s - loss: 1.0659 - acc: 0.6247 — val_f1: 0.153526\n",
      "7361/7361 [==============================] - 130s 18ms/sample - loss: 1.0658 - acc: 0.6248 - val_loss: 1.0722 - val_acc: 0.6229\n",
      "Epoch 15/50\n",
      "7360/7361 [============================>.] - ETA: 0s - loss: 1.0643 - acc: 0.6249 — val_f1: 0.153526\n",
      "7361/7361 [==============================] - 130s 18ms/sample - loss: 1.0643 - acc: 0.6248 - val_loss: 1.0879 - val_acc: 0.6229\n",
      "Epoch 16/50\n",
      "7360/7361 [============================>.] - ETA: 0s - loss: 1.0673 - acc: 0.6249 — val_f1: 0.153526\n",
      "7361/7361 [==============================] - 129s 17ms/sample - loss: 1.0674 - acc: 0.6248 - val_loss: 1.0724 - val_acc: 0.6229\n",
      "Epoch 17/50\n",
      "7360/7361 [============================>.] - ETA: 0s - loss: 1.0653 - acc: 0.6249 — val_f1: 0.153526\n",
      "7361/7361 [==============================] - 127s 17ms/sample - loss: 1.0654 - acc: 0.6248 - val_loss: 1.0753 - val_acc: 0.6229\n",
      "Epoch 18/50\n",
      "7360/7361 [============================>.] - ETA: 0s - loss: 1.0640 - acc: 0.6247 — val_f1: 0.153526\n",
      "7361/7361 [==============================] - 126s 17ms/sample - loss: 1.0639 - acc: 0.6248 - val_loss: 1.0769 - val_acc: 0.6229\n",
      "Epoch 19/50\n",
      "7360/7361 [============================>.] - ETA: 0s - loss: 1.0650 - acc: 0.6249 — val_f1: 0.153526\n",
      "7361/7361 [==============================] - 126s 17ms/sample - loss: 1.0651 - acc: 0.6248 - val_loss: 1.0748 - val_acc: 0.6229\n",
      "Epoch 20/50\n",
      "7360/7361 [============================>.] - ETA: 0s - loss: 1.0649 - acc: 0.6249 — val_f1: 0.153526\n",
      "7361/7361 [==============================] - 125s 17ms/sample - loss: 1.0650 - acc: 0.6248 - val_loss: 1.0786 - val_acc: 0.6229\n",
      "Epoch 21/50\n",
      "7360/7361 [============================>.] - ETA: 0s - loss: 1.0641 - acc: 0.6247 — val_f1: 0.153526\n",
      "7361/7361 [==============================] - 126s 17ms/sample - loss: 1.0640 - acc: 0.6248 - val_loss: 1.0730 - val_acc: 0.6229\n",
      "Epoch 22/50\n",
      "7360/7361 [============================>.] - ETA: 0s - loss: 1.0606 - acc: 0.6247 — val_f1: 0.153526\n",
      "7361/7361 [==============================] - 126s 17ms/sample - loss: 1.0605 - acc: 0.6248 - val_loss: 1.0730 - val_acc: 0.6229\n",
      "Epoch 23/50\n",
      "7360/7361 [============================>.] - ETA: 0s - loss: 1.0593 - acc: 0.6247 — val_f1: 0.153526\n",
      "7361/7361 [==============================] - 125s 17ms/sample - loss: 1.0593 - acc: 0.6248 - val_loss: 1.0730 - val_acc: 0.6229\n",
      "Epoch 24/50\n",
      "7360/7361 [============================>.] - ETA: 0s - loss: 1.0591 - acc: 0.6249 — val_f1: 0.153526\n",
      "7361/7361 [==============================] - 126s 17ms/sample - loss: 1.0591 - acc: 0.6248 - val_loss: 1.0734 - val_acc: 0.6229\n",
      "Epoch 25/50\n",
      "7360/7361 [============================>.] - ETA: 0s - loss: 1.0583 - acc: 0.6247 — val_f1: 0.153526\n",
      "7361/7361 [==============================] - 126s 17ms/sample - loss: 1.0582 - acc: 0.6248 - val_loss: 1.0745 - val_acc: 0.6229\n",
      "Epoch 26/50\n",
      "7360/7361 [============================>.] - ETA: 0s - loss: 1.0585 - acc: 0.6247 — val_f1: 0.153526\n",
      "7361/7361 [==============================] - 126s 17ms/sample - loss: 1.0584 - acc: 0.6248 - val_loss: 1.0726 - val_acc: 0.6229\n",
      "Epoch 27/50\n",
      "7360/7361 [============================>.] - ETA: 0s - loss: 1.0578 - acc: 0.6249 — val_f1: 0.153526\n",
      "7361/7361 [==============================] - 127s 17ms/sample - loss: 1.0579 - acc: 0.6248 - val_loss: 1.0723 - val_acc: 0.6229\n",
      "Epoch 28/50\n",
      "7360/7361 [============================>.] - ETA: 0s - loss: 1.0575 - acc: 0.6247 — val_f1: 0.153526\n",
      "7361/7361 [==============================] - 126s 17ms/sample - loss: 1.0574 - acc: 0.6248 - val_loss: 1.0726 - val_acc: 0.6229\n",
      "Epoch 29/50\n",
      "7360/7361 [============================>.] - ETA: 0s - loss: 1.0571 - acc: 0.6247 — val_f1: 0.153526\n",
      "7361/7361 [==============================] - 126s 17ms/sample - loss: 1.0570 - acc: 0.6248 - val_loss: 1.0728 - val_acc: 0.6229\n",
      "Epoch 30/50\n",
      "7360/7361 [============================>.] - ETA: 0s - loss: 1.0562 - acc: 0.6247 — val_f1: 0.153526\n",
      "7361/7361 [==============================] - 126s 17ms/sample - loss: 1.0561 - acc: 0.6248 - val_loss: 1.0735 - val_acc: 0.6229\n",
      "Epoch 31/50\n",
      "7360/7361 [============================>.] - ETA: 0s - loss: 1.0562 - acc: 0.6247 — val_f1: 0.153526\n",
      "7361/7361 [==============================] - 126s 17ms/sample - loss: 1.0562 - acc: 0.6248 - val_loss: 1.0732 - val_acc: 0.6229\n",
      "Epoch 32/50\n",
      "7360/7361 [============================>.] - ETA: 0s - loss: 1.0561 - acc: 0.6247 — val_f1: 0.153526\n",
      "7361/7361 [==============================] - 126s 17ms/sample - loss: 1.0560 - acc: 0.6248 - val_loss: 1.0736 - val_acc: 0.6229\n",
      "Epoch 33/50\n",
      "7360/7361 [============================>.] - ETA: 0s - loss: 1.0559 - acc: 0.6247 — val_f1: 0.153526\n",
      "7361/7361 [==============================] - 126s 17ms/sample - loss: 1.0558 - acc: 0.6248 - val_loss: 1.0728 - val_acc: 0.6229\n",
      "Epoch 34/50\n",
      "7360/7361 [============================>.] - ETA: 0s - loss: 1.0553 - acc: 0.6249 — val_f1: 0.153526\n",
      "7361/7361 [==============================] - 126s 17ms/sample - loss: 1.0556 - acc: 0.6248 - val_loss: 1.0744 - val_acc: 0.6229\n",
      "Epoch 35/50\n",
      "7360/7361 [============================>.] - ETA: 0s - loss: 1.0545 - acc: 0.6249 — val_f1: 0.153526\n",
      "7361/7361 [==============================] - 125s 17ms/sample - loss: 1.0545 - acc: 0.6248 - val_loss: 1.0751 - val_acc: 0.6229\n",
      "Epoch 36/50\n",
      "7360/7361 [============================>.] - ETA: 0s - loss: 1.0550 - acc: 0.6247 — val_f1: 0.153526\n",
      "7361/7361 [==============================] - 126s 17ms/sample - loss: 1.0549 - acc: 0.6248 - val_loss: 1.0747 - val_acc: 0.6229\n",
      "Epoch 37/50\n",
      "7360/7361 [============================>.] - ETA: 0s - loss: 1.0554 - acc: 0.6249 — val_f1: 0.153526\n",
      "7361/7361 [==============================] - 126s 17ms/sample - loss: 1.0554 - acc: 0.6248 - val_loss: 1.0732 - val_acc: 0.6229\n",
      "Epoch 38/50\n",
      "7360/7361 [============================>.] - ETA: 0s - loss: 1.0542 - acc: 0.6247 — val_f1: 0.153526\n",
      "7361/7361 [==============================] - 126s 17ms/sample - loss: 1.0541 - acc: 0.6248 - val_loss: 1.0750 - val_acc: 0.6229\n",
      "Epoch 39/50\n",
      "7360/7361 [============================>.] - ETA: 0s - loss: 1.0535 - acc: 0.6247 — val_f1: 0.153526\n",
      "7361/7361 [==============================] - 127s 17ms/sample - loss: 1.0534 - acc: 0.6248 - val_loss: 1.0764 - val_acc: 0.6229\n",
      "Epoch 40/50\n",
      "7360/7361 [============================>.] - ETA: 0s - loss: 1.0534 - acc: 0.6247 — val_f1: 0.153526\n",
      "7361/7361 [==============================] - 125s 17ms/sample - loss: 1.0533 - acc: 0.6248 - val_loss: 1.0754 - val_acc: 0.6229\n",
      "Epoch 41/50\n",
      "7360/7361 [============================>.] - ETA: 0s - loss: 1.0534 - acc: 0.6247 — val_f1: 0.153526\n",
      "7361/7361 [==============================] - 126s 17ms/sample - loss: 1.0533 - acc: 0.6248 - val_loss: 1.0747 - val_acc: 0.6229\n",
      "Epoch 42/50\n",
      "7360/7361 [============================>.] - ETA: 0s - loss: 1.0525 - acc: 0.6247 — val_f1: 0.153526\n",
      "7361/7361 [==============================] - 126s 17ms/sample - loss: 1.0524 - acc: 0.6248 - val_loss: 1.0753 - val_acc: 0.6229\n",
      "Epoch 43/50\n",
      "7360/7361 [============================>.] - ETA: 0s - loss: 1.0521 - acc: 0.6249 — val_f1: 0.153526\n",
      "7361/7361 [==============================] - 126s 17ms/sample - loss: 1.0522 - acc: 0.6248 - val_loss: 1.0780 - val_acc: 0.6229\n",
      "Epoch 44/50\n",
      "7360/7361 [============================>.] - ETA: 0s - loss: 1.0519 - acc: 0.6249 — val_f1: 0.153526\n",
      "7361/7361 [==============================] - 125s 17ms/sample - loss: 1.0519 - acc: 0.6248 - val_loss: 1.0749 - val_acc: 0.6229\n",
      "Epoch 45/50\n",
      "7360/7361 [============================>.] - ETA: 0s - loss: 1.0509 - acc: 0.6247 — val_f1: 0.153526\n",
      "7361/7361 [==============================] - 125s 17ms/sample - loss: 1.0509 - acc: 0.6248 - val_loss: 1.0772 - val_acc: 0.6229\n",
      "Epoch 46/50\n",
      "7360/7361 [============================>.] - ETA: 0s - loss: 1.0506 - acc: 0.6247 — val_f1: 0.153526\n",
      "7361/7361 [==============================] - 125s 17ms/sample - loss: 1.0506 - acc: 0.6248 - val_loss: 1.0789 - val_acc: 0.6229\n",
      "Epoch 47/50\n",
      "7360/7361 [============================>.] - ETA: 0s - loss: 1.0492 - acc: 0.6249 — val_f1: 0.153526\n",
      "7361/7361 [==============================] - 125s 17ms/sample - loss: 1.0493 - acc: 0.6248 - val_loss: 1.0770 - val_acc: 0.6229\n",
      "Epoch 48/50\n",
      "7360/7361 [============================>.] - ETA: 0s - loss: 1.0491 - acc: 0.6247 — val_f1: 0.153526\n",
      "7361/7361 [==============================] - 126s 17ms/sample - loss: 1.0490 - acc: 0.6248 - val_loss: 1.0819 - val_acc: 0.6229\n",
      "Epoch 49/50\n",
      "7360/7361 [============================>.] - ETA: 0s - loss: 1.0488 - acc: 0.6247 — val_f1: 0.153526\n",
      "7361/7361 [==============================] - 125s 17ms/sample - loss: 1.0488 - acc: 0.6248 - val_loss: 1.0791 - val_acc: 0.6229\n",
      "Epoch 50/50\n",
      "7360/7361 [============================>.] - ETA: 0s - loss: 1.0468 - acc: 0.6249 — val_f1: 0.153526\n",
      "7361/7361 [==============================] - 127s 17ms/sample - loss: 1.0469 - acc: 0.6248 - val_loss: 1.0816 - val_acc: 0.6229\n"
     ]
    },
    {
     "data": {
      "text/plain": [
       "Text(0.5, 1.0, 'Validation F1 Scores')"
      ]
     },
     "execution_count": 33,
     "metadata": {
      "tags": []
     },
     "output_type": "execute_result"
    },
    {
     "data": {
      "image/png": "[encoded data removed]",
      "text/plain": [
       "<Figure size 576x576 with 3 Axes>"
      ]
     },
     "metadata": {
      "tags": []
     },
     "output_type": "display_data"
    }
   ],
   "source": [
    "optimizer = Adam(learning_rate=LR)\n",
    "                \n",
    "metrics = Metrics()\n",
    "model.compile(loss='sparse_categorical_crossentropy', optimizer=optimizer, metrics=['acc'])\n",
    "\n",
    "callbacks = [ LearningRateScheduler(lr_scheduler), metrics ]\n",
    "\n",
    "history = model.fit(X_train, y_train, class_weight=class_weights, batch_size=BATCH_SIZE, epochs=EPOCHS, \n",
    "                    shuffle=True, validation_data=(X_val, y_val), callbacks=callbacks)\n",
    "                \n",
    "acc = history.history['acc']\n",
    "val_acc = history.history['val_acc']\n",
    "\n",
    "loss = history.history['loss']\n",
    "val_loss = history.history['val_loss']\n",
    "\n",
    "epochs_range = range(EPOCHS)\n",
    "\n",
    "plt.figure(figsize=(8, 8))\n",
    "plt.subplot(1, 3, 1)\n",
    "plt.plot(epochs_range, acc, label='Training Accuracy')\n",
    "plt.plot(epochs_range, val_acc, label='Validation Accuracy')\n",
    "plt.legend(loc='lower right')\n",
    "plt.title('Training and Validation Accuracy')\n",
    "\n",
    "plt.subplot(1, 3, 2)\n",
    "plt.plot(epochs_range, loss, label='Training Loss')\n",
    "plt.plot(epochs_range, val_loss, label='Validation Loss')\n",
    "plt.legend(loc='upper right')\n",
    "plt.title('Training and Validation Loss')\n",
    "\n",
    "plt.subplot(1, 3, 3)\n",
    "plt.plot(epochs_range, metrics.val_f1s, label='Validation F1')\n",
    "plt.legend(loc='lower right')\n",
    "plt.title('Validation F1 Scores')\n"
   ]
  },
  {
   "cell_type": "code",
   "execution_count": 0,
   "metadata": {
    "colab": {
     "base_uri": "https://localhost:8080/",
     "height": 164
    },
    "colab_type": "code",
    "id": "-mn7CHjuTIku",
    "outputId": "094497b0-e81f-4753-e256-2d5c0eb5f0a5"
   },
   "outputs": [
    {
     "ename": "NameError",
     "evalue": "ignored",
     "output_type": "error",
     "traceback": [
      "\u001b[0;31m---------------------------------------------------------------------------\u001b[0m",
      "\u001b[0;31mNameError\u001b[0m                                 Traceback (most recent call last)",
      "\u001b[0;32m<ipython-input-1-7ba1f0001e68>\u001b[0m in \u001b[0;36m<module>\u001b[0;34m()\u001b[0m\n\u001b[0;32m----> 1\u001b[0;31m \u001b[0mmodel\u001b[0m\u001b[0;34m.\u001b[0m\u001b[0mload_weights\u001b[0m\u001b[0;34m(\u001b[0m\u001b[0;34m\"model.h5\"\u001b[0m\u001b[0;34m)\u001b[0m\u001b[0;34m\u001b[0m\u001b[0;34m\u001b[0m\u001b[0m\n\u001b[0m",
      "\u001b[0;31mNameError\u001b[0m: name 'model' is not defined"
     ]
    }
   ],
   "source": [
    "model.load_weights(\"model.h5\")"
   ]
  },
  {
   "cell_type": "markdown",
   "metadata": {
    "colab_type": "text",
    "id": "xjidcaMbGXNp"
   },
   "source": [
    "F1 scores of validation set:"
   ]
  },
  {
   "cell_type": "code",
   "execution_count": 0,
   "metadata": {
    "colab": {},
    "colab_type": "code",
    "id": "C0e9MnewBOv4"
   },
   "outputs": [],
   "source": [
    "y_true = y_val\n",
    "y_pred = np.argmax(model.predict(X_val), axis=1)\n",
    "target_names = [\"disgust\", \"happy\", \"sad\", \"fear\", \"neutral\"]\n",
    "print(classification_report(y_true, y_pred, target_names=target_names))"
   ]
  },
  {
   "cell_type": "markdown",
   "metadata": {
    "colab_type": "text",
    "id": "PK4vTtUtHnU1"
   },
   "source": [
    "# Method 3: Apply LSTM on sequential spectogram <a id='method3'></a>"
   ]
  },
  {
   "cell_type": "markdown",
   "metadata": {
    "colab_type": "text",
    "id": "Eythk6OMPgmI"
   },
   "source": [
    "Import Modules"
   ]
  },
  {
   "cell_type": "code",
   "execution_count": 0,
   "metadata": {
    "colab": {},
    "colab_type": "code",
    "id": "WCGHHi5OHtQh"
   },
   "outputs": [],
   "source": [
    "import numpy as np\n",
    "from tensorflow.keras.backend import clear_session\n",
    "from tensorflow.keras.models import Sequential, Model\n",
    "from tensorflow.keras.layers import Input, Dense, Dropout, Activation, TimeDistributed, Concatenate\n",
    "from tensorflow.keras.layers import Conv2D, MaxPooling2D, AveragePooling2D, BatchNormalization, LeakyReLU, Flatten\n",
    "from tensorflow.keras.layers import LSTM\n",
    "from tensorflow.keras.optimizers import Adam, SGD\n",
    "from tensorflow.keras.callbacks import EarlyStopping, ModelCheckpoint, LearningRateScheduler, Callback\n",
    "from sklearn.utils import class_weight\n",
    "from sklearn.metrics import classification_report, f1_score\n",
    "from imblearn.over_sampling import SMOTE "
   ]
  },
  {
   "cell_type": "code",
   "execution_count": 0,
   "metadata": {
    "colab": {},
    "colab_type": "code",
    "id": "GcM7E6aYdNVL"
   },
   "outputs": [],
   "source": [
    "EPOCHS = 50\n",
    "LR = 0.0001\n",
    "BATCH_SIZE = 16\n",
    "DROPOUT_RATE = 0.5\n",
    "REG_STRENGTH = 0.01\n",
    "\n",
    "EMOTIONS = [\"disgust\", \"happy\", \"sad\", \"fear\", \"neutral\"]"
   ]
  },
  {
   "cell_type": "code",
   "execution_count": 0,
   "metadata": {
    "colab": {},
    "colab_type": "code",
    "id": "ogiNyCqcPfe7"
   },
   "outputs": [],
   "source": [
    "def create_dataset(spec_type):\n",
    "    X_train = []\n",
    "    y_train = []\n",
    "\n",
    "    DIR = \"./train\"\n",
    "\n",
    "    wav_files = glob(DIR+\"/*/*.wav\")\n",
    "    wav_files = [x.split(sep='/')[-2] + '/' + x.split(sep='/')[-1] for x in wav_files]\n",
    "\n",
    "    for wav_file in tqdm(wav_files):\n",
    "        label, name = wav_file.split('/')\n",
    "        label_id = EMOTIONS.index(label)  \n",
    "        file_name = os.path.join(DIR, wav_file)\n",
    "        X_train.append(process_wav_file(file_name, spec_type))\n",
    "        y_train.append(label_id)\n",
    "\n",
    "    X_val = []\n",
    "    y_val = []\n",
    "\n",
    "    DIR = \"./val\"\n",
    "\n",
    "    wav_files = glob(DIR+\"/*/*.wav\")\n",
    "    wav_files = [x.split(sep='/')[-2] + '/' + x.split(sep='/')[-1] for x in wav_files]\n",
    "\n",
    "    for wav_file in tqdm(wav_files):\n",
    "        label, name = wav_file.split('/')\n",
    "        label_id = EMOTIONS.index(label)  \n",
    "        file_name = os.path.join(DIR, wav_file)\n",
    "        X_val.append(process_wav_file(file_name, spec_type))\n",
    "        y_val.append(label_id)\n",
    "\n",
    "    X_train = np.array(X_train, 'float32')\n",
    "    y_train = np.array(y_train)\n",
    "    X_val = np.array(X_val, 'float32')\n",
    "    y_val = np.array(y_val)\n",
    "\n",
    "    mean = np.mean(X_train, axis = 0)\n",
    "    std = np.std(X_train, axis = 0)\n",
    "\n",
    "    X_train -= mean\n",
    "    X_val -= mean\n",
    "\n",
    "    X_train /= std\n",
    "    X_val /= std\n",
    "    \n",
    "    return X_train, y_train, X_val, y_val, X_train[0].shape"
   ]
  },
  {
   "cell_type": "code",
   "execution_count": 0,
   "metadata": {
    "colab": {},
    "colab_type": "code",
    "id": "DnWtWJ5EPozY"
   },
   "outputs": [],
   "source": [
    "def process_wav_file(x, spec_type):\n",
    "    y, sr = librosa.load(x)\n",
    "    y = y.astype(np.float32) / np.iinfo(np.int16).max # Normalize\n",
    "    L = 327500\n",
    "\n",
    "    if len(y) > L:\n",
    "        i = np.random.randint(0, len(y) - L)\n",
    "        y = y[i:(i+L)]  \n",
    "\n",
    "    elif len(y) < L:\n",
    "        rem_len = L - len(y)\n",
    "        silence_part = np.random.randint(-100,100,L).astype(np.float32) / np.iinfo(np.int16).max\n",
    "        j = np.random.randint(0, rem_len)\n",
    "        silence_part_left  = silence_part[0:j]\n",
    "        silence_part_right = silence_part[j:rem_len]\n",
    "        y = np.concatenate([silence_part_left, y, silence_part_right])\n",
    "\n",
    "    if spec_type == 'mel':\n",
    "        spec = librosa.feature.melspectrogram(y=y, sr=sr, n_fft=2048, n_mels=128, hop_length=512)\n",
    "        spec_db = librosa.power_to_db(spec, ref=np.max)\n",
    "        splitted = np.array(np.hsplit(spec_db, 5))\n",
    "        return np.expand_dims(splitted, axis=3)"
   ]
  },
  {
   "cell_type": "code",
   "execution_count": 0,
   "metadata": {
    "colab": {},
    "colab_type": "code",
    "id": "Q2C3EJM2Qcw1"
   },
   "outputs": [],
   "source": [
    "X_train, y_train, X_val, y_val, input_shape = create_dataset('mel')"
   ]
  },
  {
   "cell_type": "code",
   "execution_count": 0,
   "metadata": {
    "colab": {
     "base_uri": "https://localhost:8080/",
     "height": 34
    },
    "colab_type": "code",
    "id": "c__6CEIaQdiA",
    "outputId": "6d903a92-53b6-4041-804c-c76da8b9933e"
   },
   "outputs": [
    {
     "name": "stdout",
     "output_type": "stream",
     "text": [
      "(7354, 5, 128, 128, 1) (7354,) (830, 5, 128, 128, 1) (830,) (5, 128, 128, 1)\n"
     ]
    }
   ],
   "source": [
    "DIR = \"/mntDrive/My Drive/meld/multimodelEmotionRecog/\"\n",
    "\n",
    "X_train = np.load(DIR+\"X_train.npy\")\n",
    "y_train = np.load(DIR+\"y_train.npy\")\n",
    "X_val = np.load(DIR+\"X_val.npy\")\n",
    "y_val = np.load(DIR+\"y_val.npy\")\n",
    "input_shape = X_train[0].shape\n",
    "\n",
    "print(X_train.shape, y_train.shape, X_val.shape, y_val.shape, input_shape)"
   ]
  },
  {
   "cell_type": "code",
   "execution_count": 0,
   "metadata": {
    "colab": {
     "base_uri": "https://localhost:8080/",
     "height": 1000
    },
    "colab_type": "code",
    "id": "u_xmVghjSc18",
    "outputId": "422ec131-9db8-4015-fff5-80bc3f280043"
   },
   "outputs": [
    {
     "name": "stdout",
     "output_type": "stream",
     "text": [
      "Model: \"model\"\n",
      "_________________________________________________________________\n",
      "Layer (type)                 Output Shape              Param #   \n",
      "=================================================================\n",
      "input_1 (InputLayer)         [(None, 5, 128, 128, 1)]  0         \n",
      "_________________________________________________________________\n",
      "time_distributed (TimeDistri (None, 5, 128, 128, 64)   640       \n",
      "_________________________________________________________________\n",
      "time_distributed_1 (TimeDist (None, 5, 128, 128, 64)   256       \n",
      "_________________________________________________________________\n",
      "time_distributed_2 (TimeDist (None, 5, 128, 128, 64)   0         \n",
      "_________________________________________________________________\n",
      "time_distributed_3 (TimeDist (None, 5, 64, 64, 64)     0         \n",
      "_________________________________________________________________\n",
      "time_distributed_4 (TimeDist (None, 5, 64, 64, 64)     0         \n",
      "_________________________________________________________________\n",
      "time_distributed_5 (TimeDist (None, 5, 64, 64, 64)     36928     \n",
      "_________________________________________________________________\n",
      "time_distributed_6 (TimeDist (None, 5, 64, 64, 64)     256       \n",
      "_________________________________________________________________\n",
      "time_distributed_7 (TimeDist (None, 5, 64, 64, 64)     0         \n",
      "_________________________________________________________________\n",
      "time_distributed_8 (TimeDist (None, 5, 16, 16, 64)     0         \n",
      "_________________________________________________________________\n",
      "time_distributed_9 (TimeDist (None, 5, 16, 16, 64)     0         \n",
      "_________________________________________________________________\n",
      "time_distributed_10 (TimeDis (None, 5, 16, 16, 128)    73856     \n",
      "_________________________________________________________________\n",
      "time_distributed_11 (TimeDis (None, 5, 16, 16, 128)    512       \n",
      "_________________________________________________________________\n",
      "time_distributed_12 (TimeDis (None, 5, 16, 16, 128)    0         \n",
      "_________________________________________________________________\n",
      "time_distributed_13 (TimeDis (None, 5, 4, 4, 128)      0         \n",
      "_________________________________________________________________\n",
      "time_distributed_14 (TimeDis (None, 5, 4, 4, 128)      0         \n",
      "_________________________________________________________________\n",
      "time_distributed_15 (TimeDis (None, 5, 4, 4, 128)      147584    \n",
      "_________________________________________________________________\n",
      "time_distributed_16 (TimeDis (None, 5, 4, 4, 128)      512       \n",
      "_________________________________________________________________\n",
      "time_distributed_17 (TimeDis (None, 5, 4, 4, 128)      0         \n",
      "_________________________________________________________________\n",
      "time_distributed_18 (TimeDis (None, 5, 1, 1, 128)      0         \n",
      "_________________________________________________________________\n",
      "time_distributed_19 (TimeDis (None, 5, 1, 1, 128)      0         \n",
      "_________________________________________________________________\n",
      "time_distributed_20 (TimeDis (None, 5, 128)            0         \n",
      "_________________________________________________________________\n",
      "lstm (LSTM)                  (None, 256)               394240    \n",
      "_________________________________________________________________\n",
      "dense (Dense)                (None, 512)               131584    \n",
      "_________________________________________________________________\n",
      "dropout_4 (Dropout)          (None, 512)               0         \n",
      "_________________________________________________________________\n",
      "dense_1 (Dense)              (None, 512)               262656    \n",
      "_________________________________________________________________\n",
      "dropout_5 (Dropout)          (None, 512)               0         \n",
      "_________________________________________________________________\n",
      "dense_2 (Dense)              (None, 5)                 2565      \n",
      "=================================================================\n",
      "Total params: 1,051,589\n",
      "Trainable params: 1,050,821\n",
      "Non-trainable params: 768\n",
      "_________________________________________________________________\n"
     ]
    }
   ],
   "source": [
    "clear_session()\n",
    "\n",
    "input_y = Input(shape=X_train.shape[1:])\n",
    "\n",
    "y = TimeDistributed(Conv2D(64, kernel_size=(3, 3), strides=(1, 1), padding='same'))(input_y)\n",
    "y = TimeDistributed(BatchNormalization())(y)\n",
    "y = TimeDistributed(Activation('elu'))(y)\n",
    "y = TimeDistributed(MaxPooling2D(pool_size=(2, 2), strides=(2, 2), padding='same'))(y)\n",
    "y = TimeDistributed(Dropout(0.2))(y)     \n",
    "\n",
    "y = TimeDistributed(Conv2D(64, kernel_size=(3, 3), strides=(1, 1), padding='same'))(y)\n",
    "y = TimeDistributed(BatchNormalization())(y)\n",
    "y = TimeDistributed(Activation('elu'))(y)\n",
    "y = TimeDistributed(MaxPooling2D(pool_size=(4, 4), strides=(4, 4), padding='same'))(y)\n",
    "y = TimeDistributed(Dropout(0.2))(y)\n",
    "\n",
    "y = TimeDistributed(Conv2D(128, kernel_size=(3, 3), strides=(1, 1), padding='same'))(y)\n",
    "y = TimeDistributed(BatchNormalization())(y)\n",
    "y = TimeDistributed(Activation('elu'))(y)\n",
    "y = TimeDistributed(MaxPooling2D(pool_size=(4, 4), strides=(4, 4), padding='same'))(y)\n",
    "y = TimeDistributed(Dropout(0.2))(y)\n",
    "\n",
    "y = TimeDistributed(Conv2D(128, kernel_size=(3, 3), strides=(1, 1), padding='same'))(y)\n",
    "y = TimeDistributed(BatchNormalization())(y)\n",
    "y = TimeDistributed(Activation('elu'))(y)\n",
    "y = TimeDistributed(MaxPooling2D(pool_size=(4, 4), strides=(4, 4), padding='same'))(y)\n",
    "y = TimeDistributed(Dropout(0.2))(y)  \n",
    "\n",
    "y = TimeDistributed(Flatten())(y)                      \n",
    "                               \n",
    "y = LSTM(256, return_sequences=False, dropout=0.2)(y)\n",
    "\n",
    "y = Dense(512, activation='relu')(y)\n",
    "y = Dropout(0.2)(y)\n",
    "y = Dense(512, activation='relu')(y)\n",
    "y = Dropout(0.2)(y)\n",
    "\n",
    "y = Dense(5, activation='softmax')(y)\n",
    "\n",
    "model = Model(inputs=input_y, outputs=y)\n",
    "model.summary()"
   ]
  },
  {
   "cell_type": "code",
   "execution_count": 0,
   "metadata": {
    "colab": {},
    "colab_type": "code",
    "id": "-ACXucT7S0T3"
   },
   "outputs": [],
   "source": [
    "class_weights = class_weight.compute_class_weight('balanced', np.unique(y_train), y_train)"
   ]
  },
  {
   "cell_type": "code",
   "execution_count": 0,
   "metadata": {
    "colab": {},
    "colab_type": "code",
    "id": "vFaj56z2S0NC"
   },
   "outputs": [],
   "source": [
    "class Metrics(Callback):\n",
    "    def on_train_begin(self, logs={}):\n",
    "        self.val_f1s = []\n",
    "        self.max_f1 = 0.0\n",
    " \n",
    "    def on_epoch_end(self, epoch, logs={}):\n",
    "        y_pred = np.argmax(self.model.predict(X_val), axis=1)\n",
    "        y_true = y_val\n",
    "        _val_f1 = f1_score(y_true, y_pred, average='macro')\n",
    "        self.val_f1s.append(_val_f1)\n",
    "        print (\" — val_f1: %f\" %(_val_f1))\n",
    "\n",
    "        if _val_f1 > self.max_f1:\n",
    "            self.model.save_weights('model.h5')\n",
    "            self.max_f1 = _val_f1\n",
    "\n",
    "        return"
   ]
  },
  {
   "cell_type": "code",
   "execution_count": 0,
   "metadata": {
    "colab": {},
    "colab_type": "code",
    "id": "ca6xSLW_nLPs"
   },
   "outputs": [],
   "source": [
    "def lr_scheduler(epoch):\n",
    "    if epoch<20:\n",
    "        return 0.0001\n",
    "    return 0.00001"
   ]
  },
  {
   "cell_type": "code",
   "execution_count": 0,
   "metadata": {
    "colab": {
     "base_uri": "https://localhost:8080/",
     "height": 1000
    },
    "colab_type": "code",
    "id": "s8rc3KpUUBqh",
    "outputId": "ff7b9b99-22bf-481d-eeb5-8381db30afbe"
   },
   "outputs": [
    {
     "name": "stdout",
     "output_type": "stream",
     "text": [
      "Train on 7354 samples, validate on 830 samples\n",
      "Epoch 1/50\n",
      "7344/7354 [============================>.] - ETA: 0s - loss: 1.0834 - acc: 0.6212"
     ]
    },
    {
     "name": "stderr",
     "output_type": "stream",
     "text": [
      "/usr/local/lib/python3.6/dist-packages/sklearn/metrics/classification.py:1437: UndefinedMetricWarning: F-score is ill-defined and being set to 0.0 in labels with no predicted samples.\n",
      "  'precision', 'predicted', average, warn_for)\n"
     ]
    },
    {
     "name": "stdout",
     "output_type": "stream",
     "text": [
      " — val_f1: 0.153526\n",
      "7354/7354 [==============================] - 120s 16ms/sample - loss: 1.0835 - acc: 0.6213 - val_loss: 1.1103 - val_acc: 0.6229\n",
      "Epoch 2/50\n",
      "7344/7354 [============================>.] - ETA: 0s - loss: 1.0740 - acc: 0.6243 — val_f1: 0.153526\n",
      "7354/7354 [==============================] - 117s 16ms/sample - loss: 1.0743 - acc: 0.6244 - val_loss: 1.0799 - val_acc: 0.6229\n",
      "Epoch 3/50\n",
      "7344/7354 [============================>.] - ETA: 0s - loss: 1.0700 - acc: 0.6246 — val_f1: 0.153526\n",
      "7354/7354 [==============================] - 117s 16ms/sample - loss: 1.0705 - acc: 0.6244 - val_loss: 1.0768 - val_acc: 0.6229\n",
      "Epoch 4/50\n",
      "7344/7354 [============================>.] - ETA: 0s - loss: 1.0677 - acc: 0.6243 — val_f1: 0.153526\n",
      "7354/7354 [==============================] - 117s 16ms/sample - loss: 1.0676 - acc: 0.6244 - val_loss: 1.0716 - val_acc: 0.6229\n",
      "Epoch 5/50\n",
      "7344/7354 [============================>.] - ETA: 0s - loss: 1.0702 - acc: 0.6245 — val_f1: 0.153526\n",
      "7354/7354 [==============================] - 117s 16ms/sample - loss: 1.0700 - acc: 0.6244 - val_loss: 1.0735 - val_acc: 0.6229\n",
      "Epoch 6/50\n",
      "7344/7354 [============================>.] - ETA: 0s - loss: 1.0702 - acc: 0.6243 — val_f1: 0.153526\n",
      "7354/7354 [==============================] - 117s 16ms/sample - loss: 1.0698 - acc: 0.6244 - val_loss: 1.0776 - val_acc: 0.6229\n",
      "Epoch 7/50\n",
      "7344/7354 [============================>.] - ETA: 0s - loss: 1.0669 - acc: 0.6243 — val_f1: 0.153526\n",
      "7354/7354 [==============================] - 116s 16ms/sample - loss: 1.0665 - acc: 0.6244 - val_loss: 1.0787 - val_acc: 0.6229\n",
      "Epoch 8/50\n",
      "7344/7354 [============================>.] - ETA: 0s - loss: 1.0649 - acc: 0.6245 — val_f1: 0.153526\n",
      "7354/7354 [==============================] - 116s 16ms/sample - loss: 1.0649 - acc: 0.6244 - val_loss: 1.0794 - val_acc: 0.6229\n",
      "Epoch 9/50\n",
      "7344/7354 [============================>.] - ETA: 0s - loss: 1.0668 - acc: 0.6242 — val_f1: 0.153526\n",
      "7354/7354 [==============================] - 116s 16ms/sample - loss: 1.0664 - acc: 0.6244 - val_loss: 1.0733 - val_acc: 0.6229\n",
      "Epoch 10/50\n",
      "7344/7354 [============================>.] - ETA: 0s - loss: 1.0657 - acc: 0.6242 — val_f1: 0.153526\n",
      "7354/7354 [==============================] - 116s 16ms/sample - loss: 1.0655 - acc: 0.6244 - val_loss: 1.0715 - val_acc: 0.6229\n",
      "Epoch 11/50\n",
      "7344/7354 [============================>.] - ETA: 0s - loss: 1.0664 - acc: 0.6242 — val_f1: 0.153526\n",
      "7354/7354 [==============================] - 116s 16ms/sample - loss: 1.0665 - acc: 0.6244 - val_loss: 1.0792 - val_acc: 0.6229\n",
      "Epoch 12/50\n",
      "7344/7354 [============================>.] - ETA: 0s - loss: 1.0617 - acc: 0.6245 — val_f1: 0.153526\n",
      "7354/7354 [==============================] - 116s 16ms/sample - loss: 1.0615 - acc: 0.6244 - val_loss: 1.0716 - val_acc: 0.6229\n",
      "Epoch 13/50\n",
      "7344/7354 [============================>.] - ETA: 0s - loss: 1.0644 - acc: 0.6246 — val_f1: 0.153526\n",
      "7354/7354 [==============================] - 116s 16ms/sample - loss: 1.0645 - acc: 0.6244 - val_loss: 1.0698 - val_acc: 0.6229\n",
      "Epoch 14/50\n",
      "7344/7354 [============================>.] - ETA: 0s - loss: 1.0633 - acc: 0.6240 — val_f1: 0.153526\n",
      "7354/7354 [==============================] - 116s 16ms/sample - loss: 1.0628 - acc: 0.6244 - val_loss: 1.0703 - val_acc: 0.6229\n",
      "Epoch 15/50\n",
      "7344/7354 [============================>.] - ETA: 0s - loss: 1.0614 - acc: 0.6245 — val_f1: 0.153526\n",
      "7354/7354 [==============================] - 116s 16ms/sample - loss: 1.0618 - acc: 0.6244 - val_loss: 1.0716 - val_acc: 0.6229\n",
      "Epoch 16/50\n",
      "7344/7354 [============================>.] - ETA: 0s - loss: 1.0612 - acc: 0.6245 — val_f1: 0.153526\n",
      "7354/7354 [==============================] - 116s 16ms/sample - loss: 1.0613 - acc: 0.6244 - val_loss: 1.0705 - val_acc: 0.6229\n",
      "Epoch 17/50\n",
      "7344/7354 [============================>.] - ETA: 0s - loss: 1.0641 - acc: 0.6240 — val_f1: 0.153526\n",
      "7354/7354 [==============================] - 116s 16ms/sample - loss: 1.0636 - acc: 0.6244 - val_loss: 1.0731 - val_acc: 0.6229\n",
      "Epoch 18/50\n",
      "7344/7354 [============================>.] - ETA: 0s - loss: 1.0609 - acc: 0.6245 — val_f1: 0.153526\n",
      "7354/7354 [==============================] - 117s 16ms/sample - loss: 1.0610 - acc: 0.6244 - val_loss: 1.0750 - val_acc: 0.6229\n",
      "Epoch 19/50\n",
      "7344/7354 [============================>.] - ETA: 0s - loss: 1.0602 - acc: 0.6243 — val_f1: 0.153526\n",
      "7354/7354 [==============================] - 117s 16ms/sample - loss: 1.0602 - acc: 0.6244 - val_loss: 1.0687 - val_acc: 0.6229\n",
      "Epoch 20/50\n",
      "7344/7354 [============================>.] - ETA: 0s - loss: 1.0629 - acc: 0.6246 — val_f1: 0.153526\n",
      "7354/7354 [==============================] - 117s 16ms/sample - loss: 1.0629 - acc: 0.6244 - val_loss: 1.0692 - val_acc: 0.6229\n",
      "Epoch 21/50\n",
      "7344/7354 [============================>.] - ETA: 0s - loss: 1.0572 - acc: 0.6243 — val_f1: 0.153526\n",
      "7354/7354 [==============================] - 117s 16ms/sample - loss: 1.0570 - acc: 0.6244 - val_loss: 1.0696 - val_acc: 0.6229\n",
      "Epoch 22/50\n",
      "7344/7354 [============================>.] - ETA: 0s - loss: 1.0573 - acc: 0.6243 — val_f1: 0.153526\n",
      "7354/7354 [==============================] - 117s 16ms/sample - loss: 1.0573 - acc: 0.6244 - val_loss: 1.0697 - val_acc: 0.6229\n",
      "Epoch 23/50\n",
      "7344/7354 [============================>.] - ETA: 0s - loss: 1.0580 - acc: 0.6246 — val_f1: 0.153526\n",
      "7354/7354 [==============================] - 117s 16ms/sample - loss: 1.0583 - acc: 0.6244 - val_loss: 1.0692 - val_acc: 0.6229\n",
      "Epoch 24/50\n",
      "7344/7354 [============================>.] - ETA: 0s - loss: 1.0548 - acc: 0.6245 — val_f1: 0.153526\n",
      "7354/7354 [==============================] - 117s 16ms/sample - loss: 1.0550 - acc: 0.6244 - val_loss: 1.0692 - val_acc: 0.6229\n",
      "Epoch 25/50\n",
      "7344/7354 [============================>.] - ETA: 0s - loss: 1.0554 - acc: 0.6243 — val_f1: 0.153526\n",
      "7354/7354 [==============================] - 117s 16ms/sample - loss: 1.0554 - acc: 0.6244 - val_loss: 1.0697 - val_acc: 0.6229\n",
      "Epoch 26/50\n",
      "7344/7354 [============================>.] - ETA: 0s - loss: 1.0574 - acc: 0.6240 — val_f1: 0.153526\n",
      "7354/7354 [==============================] - 117s 16ms/sample - loss: 1.0567 - acc: 0.6244 - val_loss: 1.0702 - val_acc: 0.6229\n",
      "Epoch 27/50\n",
      "7344/7354 [============================>.] - ETA: 0s - loss: 1.0560 - acc: 0.6246 — val_f1: 0.153526\n",
      "7354/7354 [==============================] - 117s 16ms/sample - loss: 1.0562 - acc: 0.6244 - val_loss: 1.0698 - val_acc: 0.6229\n",
      "Epoch 28/50\n",
      "7344/7354 [============================>.] - ETA: 0s - loss: 1.0569 - acc: 0.6245 — val_f1: 0.153526\n",
      "7354/7354 [==============================] - 117s 16ms/sample - loss: 1.0567 - acc: 0.6244 - val_loss: 1.0702 - val_acc: 0.6229\n",
      "Epoch 29/50\n",
      "7344/7354 [============================>.] - ETA: 0s - loss: 1.0575 - acc: 0.6240 — val_f1: 0.153526\n",
      "7354/7354 [==============================] - 117s 16ms/sample - loss: 1.0569 - acc: 0.6244 - val_loss: 1.0703 - val_acc: 0.6229\n",
      "Epoch 30/50\n",
      "7344/7354 [============================>.] - ETA: 0s - loss: 1.0550 - acc: 0.6246 — val_f1: 0.153526\n",
      "7354/7354 [==============================] - 117s 16ms/sample - loss: 1.0552 - acc: 0.6244 - val_loss: 1.0694 - val_acc: 0.6229\n",
      "Epoch 31/50\n",
      "7344/7354 [============================>.] - ETA: 0s - loss: 1.0555 - acc: 0.6247 — val_f1: 0.153526\n",
      "7354/7354 [==============================] - 117s 16ms/sample - loss: 1.0560 - acc: 0.6244 - val_loss: 1.0699 - val_acc: 0.6229\n",
      "Epoch 32/50\n",
      "7344/7354 [============================>.] - ETA: 0s - loss: 1.0556 - acc: 0.6243 — val_f1: 0.153526\n",
      "7354/7354 [==============================] - 117s 16ms/sample - loss: 1.0553 - acc: 0.6244 - val_loss: 1.0702 - val_acc: 0.6229\n",
      "Epoch 33/50\n",
      "7344/7354 [============================>.] - ETA: 0s - loss: 1.0560 - acc: 0.6245 — val_f1: 0.153526\n",
      "7354/7354 [==============================] - 117s 16ms/sample - loss: 1.0558 - acc: 0.6244 - val_loss: 1.0701 - val_acc: 0.6229\n",
      "Epoch 34/50\n",
      "7344/7354 [============================>.] - ETA: 0s - loss: 1.0567 - acc: 0.6245 — val_f1: 0.153526\n",
      "7354/7354 [==============================] - 117s 16ms/sample - loss: 1.0566 - acc: 0.6244 - val_loss: 1.0701 - val_acc: 0.6229\n",
      "Epoch 35/50\n",
      "7344/7354 [============================>.] - ETA: 0s - loss: 1.0565 - acc: 0.6243 — val_f1: 0.153526\n",
      "7354/7354 [==============================] - 117s 16ms/sample - loss: 1.0562 - acc: 0.6244 - val_loss: 1.0696 - val_acc: 0.6229\n",
      "Epoch 36/50\n",
      "7344/7354 [============================>.] - ETA: 0s - loss: 1.0556 - acc: 0.6246 — val_f1: 0.153526\n",
      "7354/7354 [==============================] - 117s 16ms/sample - loss: 1.0562 - acc: 0.6244 - val_loss: 1.0699 - val_acc: 0.6229\n",
      "Epoch 37/50\n",
      "7344/7354 [============================>.] - ETA: 0s - loss: 1.0546 - acc: 0.6245 — val_f1: 0.153526\n",
      "7354/7354 [==============================] - 117s 16ms/sample - loss: 1.0547 - acc: 0.6244 - val_loss: 1.0695 - val_acc: 0.6229\n",
      "Epoch 38/50\n",
      "7344/7354 [============================>.] - ETA: 0s - loss: 1.0546 - acc: 0.6246 — val_f1: 0.153526\n",
      "7354/7354 [==============================] - 117s 16ms/sample - loss: 1.0548 - acc: 0.6244 - val_loss: 1.0694 - val_acc: 0.6229\n",
      "Epoch 39/50\n",
      "7344/7354 [============================>.] - ETA: 0s - loss: 1.0544 - acc: 0.6242 — val_f1: 0.153526\n",
      "7354/7354 [==============================] - 117s 16ms/sample - loss: 1.0539 - acc: 0.6244 - val_loss: 1.0699 - val_acc: 0.6229\n",
      "Epoch 40/50\n",
      "7344/7354 [============================>.] - ETA: 0s - loss: 1.0573 - acc: 0.6242 — val_f1: 0.153526\n",
      "7354/7354 [==============================] - 117s 16ms/sample - loss: 1.0569 - acc: 0.6244 - val_loss: 1.0699 - val_acc: 0.6229\n",
      "Epoch 41/50\n",
      "7344/7354 [============================>.] - ETA: 0s - loss: 1.0560 - acc: 0.6242 — val_f1: 0.153526\n",
      "7354/7354 [==============================] - 117s 16ms/sample - loss: 1.0554 - acc: 0.6244 - val_loss: 1.0702 - val_acc: 0.6229\n",
      "Epoch 42/50\n",
      "7344/7354 [============================>.] - ETA: 0s - loss: 1.0565 - acc: 0.6246 — val_f1: 0.153526\n",
      "7354/7354 [==============================] - 117s 16ms/sample - loss: 1.0566 - acc: 0.6244 - val_loss: 1.0695 - val_acc: 0.6229\n",
      "Epoch 43/50\n",
      "7344/7354 [============================>.] - ETA: 0s - loss: 1.0571 - acc: 0.6242 — val_f1: 0.153526\n",
      "7354/7354 [==============================] - 117s 16ms/sample - loss: 1.0564 - acc: 0.6246 - val_loss: 1.0703 - val_acc: 0.6229\n",
      "Epoch 44/50\n",
      "7344/7354 [============================>.] - ETA: 0s - loss: 1.0544 - acc: 0.6243 — val_f1: 0.153526\n",
      "7354/7354 [==============================] - 117s 16ms/sample - loss: 1.0541 - acc: 0.6246 - val_loss: 1.0707 - val_acc: 0.6229\n",
      "Epoch 45/50\n",
      "7344/7354 [============================>.] - ETA: 0s - loss: 1.0547 - acc: 0.6245 — val_f1: 0.153526\n",
      "7354/7354 [==============================] - 117s 16ms/sample - loss: 1.0553 - acc: 0.6244 - val_loss: 1.0701 - val_acc: 0.6229\n",
      "Epoch 46/50\n",
      "7344/7354 [============================>.] - ETA: 0s - loss: 1.0550 - acc: 0.6243 — val_f1: 0.153526\n",
      "7354/7354 [==============================] - 117s 16ms/sample - loss: 1.0558 - acc: 0.6242 - val_loss: 1.0703 - val_acc: 0.6229\n",
      "Epoch 47/50\n",
      "7344/7354 [============================>.] - ETA: 0s - loss: 1.0543 - acc: 0.6245 — val_f1: 0.153526\n",
      "7354/7354 [==============================] - 117s 16ms/sample - loss: 1.0543 - acc: 0.6244 - val_loss: 1.0690 - val_acc: 0.6229\n",
      "Epoch 48/50\n",
      "5456/7354 [=====================>........] - ETA: 28s - loss: 1.0542 - acc: 0.6257"
     ]
    }
   ],
   "source": [
    "optimizer = Adam(learning_rate=LR)\n",
    "                \n",
    "metrics = Metrics()\n",
    "model.compile(loss='sparse_categorical_crossentropy', optimizer=optimizer, metrics=['acc'])\n",
    "\n",
    "callbacks = [ LearningRateScheduler(lr_scheduler), metrics ]\n",
    "\n",
    "history = model.fit(X_train, y_train, class_weight=class_weights, batch_size=BATCH_SIZE, epochs=EPOCHS, \n",
    "                    shuffle=True, validation_data=(X_val, y_val), callbacks=callbacks)\n",
    "                \n",
    "acc = history.history['acc']\n",
    "val_acc = history.history['val_acc']\n",
    "\n",
    "loss = history.history['loss']\n",
    "val_loss = history.history['val_loss']\n",
    "\n",
    "epochs_range = range(EPOCHS)\n",
    "\n",
    "plt.figure(figsize=(8, 8))\n",
    "plt.subplot(1, 3, 1)\n",
    "plt.plot(epochs_range, acc, label='Training Accuracy')\n",
    "plt.plot(epochs_range, val_acc, label='Validation Accuracy')\n",
    "plt.legend(loc='lower right')\n",
    "plt.title('Training and Validation Accuracy')\n",
    "\n",
    "plt.subplot(1, 3, 2)\n",
    "plt.plot(epochs_range, loss, label='Training Loss')\n",
    "plt.plot(epochs_range, val_loss, label='Validation Loss')\n",
    "plt.legend(loc='upper right')\n",
    "plt.title('Training and Validation Loss')\n",
    "\n",
    "plt.subplot(1, 3, 3)\n",
    "plt.plot(epochs_range, metrics.val_f1s, label='Validation F1')\n",
    "plt.legend(loc='lower right')\n",
    "plt.title('Validation F1 Scores')\n"
   ]
  },
  {
   "cell_type": "code",
   "execution_count": 0,
   "metadata": {
    "colab": {},
    "colab_type": "code",
    "id": "mEGqBU19VCjU"
   },
   "outputs": [],
   "source": [
    "model.load_weights(\"model.h5\")"
   ]
  },
  {
   "cell_type": "code",
   "execution_count": 0,
   "metadata": {
    "colab": {},
    "colab_type": "code",
    "id": "Ocx1C_HzVDHB"
   },
   "outputs": [],
   "source": [
    "y_true = y_val\n",
    "y_pred = np.argmax(model.predict((X_val, X_val_os)), axis=1)\n",
    "target_names = [\"disgust\", \"happy\", \"sad\", \"fear\", \"neutral\"]\n",
    "print(classification_report(y_true, y_pred, target_names=target_names))"
   ]
  },
  {
   "cell_type": "markdown",
   "metadata": {
    "colab_type": "text",
    "id": "YLpr2zMVXcIp"
   },
   "source": [
    "# Method 4: Infuse LSTM extracted feature vector with the opensmile features <a id='method4'></a>"
   ]
  },
  {
   "cell_type": "code",
   "execution_count": 0,
   "metadata": {
    "colab": {},
    "colab_type": "code",
    "id": "bUW4DjHfXg0Q"
   },
   "outputs": [],
   "source": [
    "DIR = \"/mntDrive/My Drive/meld/\"\n",
    "X_train_os = np.load(DIR+\"X_train.npy\")\n",
    "X_val_os = np.load(DIR+\"X_val.npy\")"
   ]
  },
  {
   "cell_type": "code",
   "execution_count": 0,
   "metadata": {
    "colab": {},
    "colab_type": "code",
    "id": "RSZTB0J9YHXE"
   },
   "outputs": [],
   "source": [
    "mean = np.mean(X_train_os, axis = 0)\n",
    "std = np.std(X_train_os, axis = 0)\n",
    "\n",
    "X_train_os -= mean\n",
    "X_val_os -= mean\n",
    "\n",
    "X_train_os = np.divide(X_train_os, std, out=np.zeros_like(X_train_os), where=std!=0)\n",
    "X_val_os = np.divide(X_val_os, std, out=np.zeros_like(X_val_os), where=std!=0)\n",
    "\n",
    "print(X_train_os.shape)"
   ]
  },
  {
   "cell_type": "code",
   "execution_count": 0,
   "metadata": {
    "colab": {},
    "colab_type": "code",
    "id": "yhd8WPnwYIHL"
   },
   "outputs": [],
   "source": [
    "clear_session()\n",
    "\n",
    "input_y = Input(shape=X_train.shape[1:])\n",
    "\n",
    "y = TimeDistributed(Conv2D(64, kernel_size=(3, 3), strides=(1, 1), padding='same'))(input_y)\n",
    "y = TimeDistributed(BatchNormalization())(y)\n",
    "y = TimeDistributed(Activation('elu'))(y)\n",
    "y = TimeDistributed(MaxPooling2D(pool_size=(2, 2), strides=(2, 2), padding='same'))(y)\n",
    "y = TimeDistributed(Dropout(0.2))(y)     \n",
    "\n",
    "y = TimeDistributed(Conv2D(64, kernel_size=(3, 3), strides=(1, 1), padding='same'))(y)\n",
    "y = TimeDistributed(BatchNormalization())(y)\n",
    "y = TimeDistributed(Activation('elu'))(y)\n",
    "y = TimeDistributed(MaxPooling2D(pool_size=(4, 4), strides=(4, 4), padding='same'))(y)\n",
    "y = TimeDistributed(Dropout(0.2))(y)\n",
    "\n",
    "y = TimeDistributed(Conv2D(128, kernel_size=(3, 3), strides=(1, 1), padding='same'))(y)\n",
    "y = TimeDistributed(BatchNormalization())(y)\n",
    "y = TimeDistributed(Activation('elu'))(y)\n",
    "y = TimeDistributed(MaxPooling2D(pool_size=(4, 4), strides=(4, 4), padding='same'))(y)\n",
    "y = TimeDistributed(Dropout(0.2))(y)\n",
    "\n",
    "y = TimeDistributed(Conv2D(128, kernel_size=(3, 3), strides=(1, 1), padding='same'))(y)\n",
    "y = TimeDistributed(BatchNormalization())(y)\n",
    "y = TimeDistributed(Activation('elu'))(y)\n",
    "y = TimeDistributed(MaxPooling2D(pool_size=(4, 4), strides=(4, 4), padding='same'))(y)\n",
    "y = TimeDistributed(Dropout(0.2))(y)  \n",
    "\n",
    "y = TimeDistributed(Flatten())(y)                      \n",
    "                               \n",
    "y = LSTM(256, return_sequences=False, dropout=0.2)(y)\n",
    "\n",
    "input_os = Input(shape=(6553))\n",
    "\n",
    "y = Concatenate()([y, input_os])\n",
    "y = Dense(512, activation='relu')(y)\n",
    "y = Dropout(0.2)(y)\n",
    "y = Dense(512, activation='relu')(y)\n",
    "y = Dropout(0.2)(y)\n",
    "\n",
    "y = Dense(5, activation='softmax')(y)\n",
    "\n",
    "# Build final model\n",
    "model = Model(inputs=(input_y, input_os), outputs=y)\n",
    "model.summary()"
   ]
  },
  {
   "cell_type": "code",
   "execution_count": 0,
   "metadata": {
    "colab": {},
    "colab_type": "code",
    "id": "RELHvqaDYMdQ"
   },
   "outputs": [],
   "source": [
    "class Metrics(Callback):\n",
    "    def on_train_begin(self, logs={}):\n",
    "        self.val_f1s = []\n",
    "        self.max_f1 = 0.0\n",
    " \n",
    "    def on_epoch_end(self, epoch, logs={}):\n",
    "        y_pred = np.argmax(self.model.predict((X_val, X_val_os)), axis=1)\n",
    "        y_true = y_val\n",
    "        _val_f1 = f1_score(y_true, y_pred, average='macro')\n",
    "        self.val_f1s.append(_val_f1)\n",
    "        print (\" — val_f1: %f\" %(_val_f1))\n",
    "\n",
    "        if _val_f1 > self.max_f1:\n",
    "            self.model.save_weights('model.h5')\n",
    "            self.max_f1 = _val_f1\n",
    "\n",
    "        return"
   ]
  },
  {
   "cell_type": "code",
   "execution_count": 0,
   "metadata": {
    "colab": {},
    "colab_type": "code",
    "id": "R-ta1oE6YSOo"
   },
   "outputs": [],
   "source": [
    "# Compile model\n",
    "model.compile(optimizer=Adam(lr=0.0001), loss='sparse_categorical_crossentropy', metrics=['accuracy'])\n",
    "\n",
    "# Fit model\n",
    "history = model.fit((X_train, X_train_os), y_train, class_weight=class_weights, batch_size=32, epochs=40, \n",
    "                    validation_data=((X_val, X_val_os), y_val), callbacks=[Metrics()])"
   ]
  },
  {
   "cell_type": "code",
   "execution_count": 0,
   "metadata": {
    "colab": {},
    "colab_type": "code",
    "id": "vRbGyL5WYUrT"
   },
   "outputs": [],
   "source": [
    "model.load_weights(\"model.h5\")"
   ]
  },
  {
   "cell_type": "code",
   "execution_count": 0,
   "metadata": {
    "colab": {},
    "colab_type": "code",
    "id": "KnYweYWlYVc-"
   },
   "outputs": [],
   "source": [
    "y_true = y_val\n",
    "y_pred = np.argmax(model.predict((X_val, X_val_os)), axis=1)\n",
    "target_names = [\"disgust\", \"happy\", \"sad\", \"fear\", \"neutral\"]\n",
    "print(classification_report(y_true, y_pred, target_names=target_names))"
   ]
  },
  {
   "cell_type": "markdown",
   "metadata": {
    "colab_type": "text",
    "id": "M3xFOvmIYfTS"
   },
   "source": [
    "# Result <a id='result'></a>"
   ]
  },
  {
   "cell_type": "markdown",
   "metadata": {
    "colab_type": "text",
    "id": "sh7z0h_qdNwt"
   },
   "source": [
    "The best result was derived from the neural network built upon the features extracted from opensmile. LSTM infusion with opensmile features resulted in very similar result as a vanilla neural network, meaning that there wasn't any extra information from the LSTM model that the neural network could draw relations from. <br>\n",
    "The fact that the dataset is heavily imbalanced and we have very few data points for some examples proves to be a major hurdle."
   ]
  },
  {
   "cell_type": "markdown",
   "metadata": {
    "colab_type": "text",
    "id": "gf__efvzYiCh"
   },
   "source": [
    "# Future Discussions"
   ]
  },
  {
   "cell_type": "markdown",
   "metadata": {
    "colab_type": "text",
    "id": "FGcmSfPbdv10"
   },
   "source": [
    "I would further would have liked to experiment with PocketSphinx, a library for locally converting audio to text. This would probably give huge imporvements. Also, Openl3 is a library that also generates features, and claims to be state of the art.\n",
    "Also, using opensmile we can get VADs which can also be passed to an RNN or LSTM. That would also be something worth exploring."
   ]
  },
  {
   "cell_type": "markdown",
   "metadata": {
    "colab_type": "text",
    "id": "enc7DUUaYnvf"
   },
   "source": [
    "# Miscellaneous"
   ]
  },
  {
   "cell_type": "markdown",
   "metadata": {
    "colab_type": "text",
    "id": "S2WVDrEVjYy4"
   },
   "source": [
    "### 1. Generating batches of audio data to speed up execution and reduce memory consumption."
   ]
  },
  {
   "cell_type": "code",
   "execution_count": 0,
   "metadata": {
    "colab": {},
    "colab_type": "code",
    "id": "pMsJLr_hmRnO"
   },
   "outputs": [],
   "source": [
    "import os\n",
    "from tensorflow.keras.applications import VGG16\n",
    "from tensorflow.keras.preprocessing.image import ImageDataGenerator\n",
    "from tensorflow.keras.layers import InputLayer, Flatten, Dense, Dropout, MaxPool2D, Conv2D\n",
    "from tensorflow.keras import Sequential\n",
    "from tensorflow.keras.utils import Sequence\n",
    "import librosa\n",
    "import librosa.display\n",
    "import numpy as np\n",
    "import random\n",
    "import pandas as pd\n",
    "import math\n",
    "from tqdm import tqdm\n",
    "\n",
    "from glob import glob\n",
    "from scipy.io import wavfile"
   ]
  },
  {
   "cell_type": "code",
   "execution_count": 0,
   "metadata": {
    "colab": {},
    "colab_type": "code",
    "id": "giY-9QRpnZuX"
   },
   "outputs": [],
   "source": [
    "emotions = [\"disgust\", \"happy\", \"sad\", \"fear\", \"neutral\"]"
   ]
  },
  {
   "cell_type": "code",
   "execution_count": 0,
   "metadata": {
    "colab": {},
    "colab_type": "code",
    "id": "gnLidNp7n_d9"
   },
   "outputs": [],
   "source": [
    "def process_wav_file(x):\n",
    "  y, sr = librosa.load(x)\n",
    "  y = y.astype(np.float32) / np.iinfo(np.int16).max # Normalize\n",
    "  L = 16000\n",
    "\n",
    "  if len(y) > L:\n",
    "    i = np.random.randint(0, len(y) - L)\n",
    "    y = y[i:(i+L)]  \n",
    "\n",
    "  elif len(y) < L:\n",
    "    rem_len = L - len(y)\n",
    "    silence_part = np.random.randint(-100,100,16000).astype(np.float32) / np.iinfo(np.int16).max\n",
    "    j = np.random.randint(0, rem_len)\n",
    "    silence_part_left  = silence_part[0:j]\n",
    "    silence_part_right = silence_part[j:rem_len]\n",
    "    y = np.concatenate([silence_part_left, y, silence_part_right])\n",
    "\n",
    "  spec = librosa.feature.melspectrogram(y=y, sr=sr, n_fft=2048, n_mels=128)\n",
    "  spec_db = librosa.power_to_db(spec, ref=np.max)\n",
    "  return spec_db.reshape((spec_db.shape[0], spec_db.shape[1], 1))"
   ]
  },
  {
   "cell_type": "code",
   "execution_count": 0,
   "metadata": {
    "colab": {},
    "colab_type": "code",
    "id": "Idewy_KPmSXl"
   },
   "outputs": [],
   "source": [
    "X_train = []\n",
    "y_train = []\n",
    "\n",
    "DIR = \"/mntDrive/My Drive/meld/train\"\n",
    "\n",
    "wav_files = glob(DIR+\"/*/*.wav\")\n",
    "wav_files = [x.split(sep='/')[5] + '/' + x.split(sep='/')[6] for x in wav_files]\n",
    "\n",
    "for wav_file in tqdm(wav_files):\n",
    "  label, name = wav_file.split('/')\n",
    "  label_id = emotions.index(label)  \n",
    "  file_name = os.path.join(DIR, wav_file)\n",
    "  X_train.append(process_wav_file(file_name))\n",
    "  y_train.append(label_id)"
   ]
  },
  {
   "cell_type": "code",
   "execution_count": 0,
   "metadata": {
    "colab": {},
    "colab_type": "code",
    "id": "dEYgh50ipDws"
   },
   "outputs": [],
   "source": [
    "class AudioSequence(Sequence):\n",
    "\n",
    "    def __init__(self, x_set, y_set, batch_size):\n",
    "        self.x, self.y = x_set, y_set\n",
    "        self.batch_size = batch_size\n",
    "\n",
    "    def __len__(self):\n",
    "        return math.ceil(len(self.x) / self.batch_size)\n",
    "\n",
    "    def __getitem__(self, idx):\n",
    "        batch_x = self.x[idx * self.batch_size:(idx + 1) * self.batch_size]\n",
    "        batch_y = self.y[idx * self.batch_size:(idx + 1) * self.batch_size]\n",
    "\n",
    "        batch_x_audio = []\n",
    "\n",
    "        for x in batch_x:\n",
    "          batch_x_audio.append(process_wav_file(x))\n",
    "\n",
    "        return np.array(batch_x_audio), np.array(batch_y)"
   ]
  },
  {
   "cell_type": "code",
   "execution_count": 0,
   "metadata": {
    "colab": {},
    "colab_type": "code",
    "id": "OTfGM3Y-pHCO"
   },
   "outputs": [],
   "source": [
    "BATCH = 4\n",
    "gen = AudioSequence(X_train, y_train, BATCH)"
   ]
  },
  {
   "cell_type": "code",
   "execution_count": 0,
   "metadata": {
    "colab": {},
    "colab_type": "code",
    "id": "6ci9rh5kn-rW"
   },
   "outputs": [],
   "source": [
    "def create_model():\n",
    "  \"\"\"Returns tensorflow Sequential keras model\"\"\"\n",
    "\n",
    "  model = Sequential()\n",
    "  model.add(InputLayer((128, 32, 1)))\n",
    "  model.add(Conv2D(64, (3, 3), activation='relu'))\n",
    "  model.add(Conv2D(64, (3, 3), activation='relu', padding='same'))\n",
    "  model.add(MaxPool2D((2, 2), strides=(2, 2), padding='same'))\n",
    "  model.add(Conv2D(128, (3, 3), activation='relu', padding='same'))\n",
    "  model.add(Conv2D(128, (3, 3), activation='relu', padding='same'))\n",
    "  model.add(MaxPool2D((2, 2), strides=(2, 2), padding='same'))\n",
    "  model.add(Conv2D(256, (3, 3), activation='relu', padding='same'))\n",
    "  model.add(Conv2D(256, (3, 3), activation='relu', padding='same'))\n",
    "  model.add(Conv2D(256, (3, 3), activation='relu', padding='same'))\n",
    "  model.add(MaxPool2D((2, 2), strides=(2, 2), padding='same'))\n",
    "  model.add(Conv2D(512, (3, 3), activation='relu', padding='same'))\n",
    "  model.add(Conv2D(512, (3, 3), activation='relu', padding='same'))\n",
    "  model.add(Conv2D(512, (3, 3), activation='relu', padding='same'))\n",
    "  model.add(MaxPool2D((2, 2), strides=(2, 2), padding='same'))\n",
    "  model.add(Conv2D(512, (3, 3), activation='relu', padding='same'))\n",
    "  model.add(Conv2D(512, (3, 3), activation='relu', padding='same'))\n",
    "  model.add(Conv2D(512, (3, 3), activation='relu', padding='same'))\n",
    "  model.add(MaxPool2D((2, 2), strides=(2, 2), padding='same'))\n",
    "  model.add(Flatten())\n",
    "  model.add(Dense(4096, activation='relu'))\n",
    "  model.add(Dropout(0.5))\n",
    "  model.add(Dense(4096, activation='relu'))\n",
    "  model.add(Dropout(0.5))\n",
    "  model.add(Dense(5, activation='softmax'))\n",
    "  \n",
    "  return model"
   ]
  },
  {
   "cell_type": "code",
   "execution_count": 0,
   "metadata": {
    "colab": {},
    "colab_type": "code",
    "id": "inAp0CWYpJhH"
   },
   "outputs": [],
   "source": [
    "model = create_model()\n",
    "model.summary()"
   ]
  },
  {
   "cell_type": "code",
   "execution_count": 0,
   "metadata": {
    "colab": {},
    "colab_type": "code",
    "id": "wJW2pNR9pLs3"
   },
   "outputs": [],
   "source": [
    "model.compile(optimizer='Adam', loss='sparse_categorical_crossentropy', metrics=['acc'])\n",
    "\n",
    "history = model.fit_generator(gen, epochs=1, steps_per_epoch=int(np.ceil(len(X_train)/BATCH)), use_multiprocessing=True, workers=4, max_queue_size=64)"
   ]
  },
  {
   "cell_type": "markdown",
   "metadata": {
    "colab_type": "text",
    "id": "N5jchGucjgdY"
   },
   "source": [
    "### 2. Applying XGBoost on the features generated by opensmile"
   ]
  },
  {
   "cell_type": "code",
   "execution_count": 0,
   "metadata": {
    "colab": {},
    "colab_type": "code",
    "id": "rW93cyJSlPKe"
   },
   "outputs": [],
   "source": [
    "import numpy as np\n",
    "import pandas as pd\n",
    "from xgboost import XGBClassifier\n",
    "from sklearn.metrics import classification_report\n",
    "import xgboost as xgb\n",
    "from scipy.stats import uniform, randint\n",
    "from sklearn.model_selection import GridSearchCV, RandomizedSearchCV"
   ]
  },
  {
   "cell_type": "code",
   "execution_count": 0,
   "metadata": {
    "colab": {},
    "colab_type": "code",
    "id": "bvYq8_zQlRq-"
   },
   "outputs": [],
   "source": [
    "DIR = \"/mntDrive/My Drive/meld/\"\n",
    "X_train = np.load(DIR+\"X_train.npy\")\n",
    "y_train = np.load(DIR+\"y_train.npy\")\n",
    "X_val = np.load(DIR+\"X_val.npy\")\n",
    "y_val = np.load(DIR+\"y_val.npy\")"
   ]
  },
  {
   "cell_type": "code",
   "execution_count": 0,
   "metadata": {
    "colab": {},
    "colab_type": "code",
    "id": "55mKTlnnlYwJ"
   },
   "outputs": [],
   "source": [
    "# model = XGBClassifier(silent=False, objective='multi:softmax', max_depth=1)\n",
    "# model.fit(X_train, y_train)\n",
    "\n",
    "# model = XGBClassifier(n_estimators=1, objective='multi:softmax')\n",
    "\n",
    "# eval_set = [(X_train, y_train), (X_val, y_val)]\n",
    "# eval_metric = [\"mlogloss\"]\n",
    "\n",
    "# model.fit(X_train, y_train, eval_metric=eval_metric, eval_set=eval_set, verbose=True)"
   ]
  },
  {
   "cell_type": "code",
   "execution_count": 0,
   "metadata": {
    "colab": {},
    "colab_type": "code",
    "id": "ln10ZMUKlaO-"
   },
   "outputs": [],
   "source": [
    "# dtrain = xgb.DMatrix(data=X_train, label=y_train)\n",
    "# dval = xgb.DMatrix(data=X_val)\n",
    "# params = {\n",
    "#     'max_depth': 10,\n",
    "#     'objective': 'multi:softmax',\n",
    "#     'num_class': 5,\n",
    "#     'n_gpus': 1\n",
    "# }\n",
    "# bst = xgb.train(params, dtrain)\n",
    "# pred = bst.predict(dval)\n",
    "# print(classification_report(y_val, pred))"
   ]
  },
  {
   "cell_type": "code",
   "execution_count": 0,
   "metadata": {
    "colab": {},
    "colab_type": "code",
    "id": "W6u_ISK0lb6q"
   },
   "outputs": [],
   "source": [
    "xgb_model = xgb.XGBClassifier(objective=\"multi:softmax\", random_state=42, tree_method='gpu_hist')\n",
    "\n",
    "params = {\n",
    "    \"colsample_bytree\": uniform(0.7, 0.3),\n",
    "    \"gamma\": uniform(0, 0.5),\n",
    "    \"learning_rate\": uniform(0.03, 0.3), # default 0.1 \n",
    "    \"max_depth\": randint(2, 6), # default 3\n",
    "    \"n_estimators\": randint(100, 150), # default 100\n",
    "    \"subsample\": uniform(0.6, 0.4)\n",
    "}\n",
    "\n",
    "search = RandomizedSearchCV(xgb_model, param_distributions=params, random_state=42, n_iter=200, cv=3, verbose=1, return_train_score=True)\n",
    "\n",
    "search.fit(X_train, y_train)\n",
    "\n",
    "report_best_scores(search.cv_results_, 1)"
   ]
  }
 ],
 "metadata": {
  "colab": {
   "collapsed_sections": [
    "jbVSg0TbR22H",
    "PK4vTtUtHnU1",
    "YLpr2zMVXcIp",
    "M3xFOvmIYfTS",
    "gf__efvzYiCh",
    "enc7DUUaYnvf",
    "S2WVDrEVjYy4",
    "N5jchGucjgdY"
   ],
   "name": "SpeechEmotion.ipynb",
   "provenance": []
  },
  "kernelspec": {
   "display_name": "Python 3",
   "language": "python",
   "name": "python3"
  },
  "language_info": {
   "codemirror_mode": {
    "name": "ipython",
    "version": 3
   },
   "file_extension": ".py",
   "mimetype": "text/x-python",
   "name": "python",
   "nbconvert_exporter": "python",
   "pygments_lexer": "ipython3",
   "version": "3.7.3"
  }
 },
 "nbformat": 4,
 "nbformat_minor": 1
}
