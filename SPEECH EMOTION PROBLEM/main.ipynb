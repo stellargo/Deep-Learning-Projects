{
 "cells": [
  {
   "cell_type": "code",
   "execution_count": 152,
   "metadata": {},
   "outputs": [],
   "source": [
    "import tensorflow as tf\n",
    "from tensorflow.keras import datasets, layers, models\n",
    "import numpy as np\n",
    "import matplotlib.pyplot as plt\n",
    "from scipy.io import wavfile\n",
    "import librosa"
   ]
  },
  {
   "cell_type": "code",
   "execution_count": 137,
   "metadata": {},
   "outputs": [
    {
     "data": {
      "text/plain": [
       "(160407,)"
      ]
     },
     "execution_count": 137,
     "metadata": {},
     "output_type": "execute_result"
    }
   ],
   "source": [
    "sample_audio_src = \"meld/train/happy/MEL_dia950_utt6_positive_HAP.wav\"\n",
    "y, sr = librosa.load(sample_audio_src, res_type='kaiser_fast')\n",
    "mfcc = librosa.feature.mfcc(y=y, sr=sr, dct_type=3)\n",
    "y.shape"
   ]
  },
  {
   "cell_type": "code",
   "execution_count": 125,
   "metadata": {},
   "outputs": [
    {
     "data": {
      "image/png": "[encoded data removed]",
      "text/plain": [
       "<Figure size 720x720 with 2 Axes>"
      ]
     },
     "metadata": {
      "needs_background": "light"
     },
     "output_type": "display_data"
    }
   ],
   "source": [
    "plt.figure(figsize=(10, 10))\n",
    "librosa.display.specshow(mfcc, x_axis='time')\n",
    "plt.colorbar()\n",
    "plt.title('MFCC')\n",
    "plt.tight_layout()\n",
    "plt.show()"
   ]
  },
  {
   "cell_type": "code",
   "execution_count": 191,
   "metadata": {},
   "outputs": [],
   "source": [
    "src = \"meld/train\"\n",
    "X_train = []\n",
    "y_train = []\n",
    "label_to_int = {\n",
    "    'disgust': 0,\n",
    "    'fear': 1,\n",
    "    'happy': 2,\n",
    "    'neutral': 3,\n",
    "    'sad': 4,\n",
    "}\n",
    "\n",
    "AUDIO_LENGTH = 80000\n",
    "\n",
    "for root, dirs, files in os.walk(src):\n",
    "    for file in files:\n",
    "        if not file.endswith('.wav'):\n",
    "            continue\n",
    "            \n",
    "        y, sr = librosa.load(os.path.join(root, file), res_type='kaiser_fast')\n",
    "        \n",
    "        if len(y) < AUDIO_LENGTH:\n",
    "            y = np.concatenate((y, np.zeros(shape = (AUDIO_LENGTH - len(y)))))\n",
    "        y = y[:AUDIO_LENGTH]\n",
    "        \n",
    "        mfcc = librosa.feature.mfcc(y=y, sr=sr, n_mfcc=20)\n",
    "\n",
    "        X_train.append(mfcc)\n",
    "        y_train.append(label_to_int[root[11:]])\n",
    "        \n",
    "X_train = np.array(X_train)\n",
    "X_train = X_train.reshape((X_train.shape[0], X_train.shape[1], X_train.shape[2], 1))\n",
    "y_train = np.array(y_train)\n",
    "\n",
    "src = \"meld/val\"\n",
    "X_val = []\n",
    "y_val = []\n",
    "\n",
    "for root, dirs, files in os.walk(src):\n",
    "    for file in files:\n",
    "        if not file.endswith('.wav'):\n",
    "            continue\n",
    "            \n",
    "        y, sr = librosa.load(os.path.join(root, file), res_type='kaiser_fast')\n",
    "        \n",
    "        if len(y) < AUDIO_LENGTH:\n",
    "            y = np.concatenate((y, np.zeros(shape = (AUDIO_LENGTH - len(y)))))\n",
    "        y = y[:AUDIO_LENGTH]\n",
    "        \n",
    "        mfcc = librosa.feature.mfcc(y=y, sr=sr, n_mfcc=20)\n",
    "\n",
    "        X_val.append(mfcc)\n",
    "        y_val.append(label_to_int[root[9:]])\n",
    "        \n",
    "X_val = np.array(X_val)\n",
    "X_val = X_val.reshape((X_val.shape[0], X_val.shape[1], X_val.shape[2], 1))\n",
    "y_val = np.array(y_val)"
   ]
  },
  {
   "cell_type": "code",
   "execution_count": 205,
   "metadata": {},
   "outputs": [
    {
     "name": "stdout",
     "output_type": "stream",
     "text": [
      "(7354, 20, 157, 1) (7354,) (830, 20, 157, 1) (830,)\n"
     ]
    }
   ],
   "source": [
    "print(X_train.shape, y_train.shape, X_val.shape, y_val.shape)"
   ]
  },
  {
   "cell_type": "code",
   "execution_count": 193,
   "metadata": {},
   "outputs": [],
   "source": [
    "def create_model():\n",
    "    model = models.Sequential()\n",
    "    model.add(layers.Conv2D(32, (3, 3), activation='relu', input_shape=(20, 157, 1)))\n",
    "    model.add(layers.MaxPooling2D((2, 2)))\n",
    "    model.add(layers.Conv2D(64, 3, activation='relu'))\n",
    "    model.add(layers.MaxPooling2D((2, 2)))\n",
    "    model.add(layers.Conv2D(64, 3, activation='relu'))\n",
    "    model.add(layers.Flatten())\n",
    "    model.add(layers.Dense(64, activation='relu'))\n",
    "    model.add(layers.Dense(5, activation='softmax'))\n",
    "    return model"
   ]
  },
  {
   "cell_type": "code",
   "execution_count": 203,
   "metadata": {},
   "outputs": [
    {
     "name": "stdout",
     "output_type": "stream",
     "text": [
      "Model: \"sequential_8\"\n",
      "_________________________________________________________________\n",
      "Layer (type)                 Output Shape              Param #   \n",
      "=================================================================\n",
      "conv2d_17 (Conv2D)           (None, 18, 155, 32)       320       \n",
      "_________________________________________________________________\n",
      "max_pooling2d_10 (MaxPooling (None, 9, 77, 32)         0         \n",
      "_________________________________________________________________\n",
      "conv2d_18 (Conv2D)           (None, 7, 75, 64)         18496     \n",
      "_________________________________________________________________\n",
      "max_pooling2d_11 (MaxPooling (None, 3, 37, 64)         0         \n",
      "_________________________________________________________________\n",
      "conv2d_19 (Conv2D)           (None, 1, 35, 64)         36928     \n",
      "_________________________________________________________________\n",
      "flatten_5 (Flatten)          (None, 2240)              0         \n",
      "_________________________________________________________________\n",
      "dense_10 (Dense)             (None, 64)                143424    \n",
      "_________________________________________________________________\n",
      "dense_11 (Dense)             (None, 5)                 325       \n",
      "=================================================================\n",
      "Total params: 199,493\n",
      "Trainable params: 199,493\n",
      "Non-trainable params: 0\n",
      "_________________________________________________________________\n"
     ]
    }
   ],
   "source": [
    "model = create_model()\n",
    "model.summary()"
   ]
  },
  {
   "cell_type": "code",
   "execution_count": 204,
   "metadata": {},
   "outputs": [
    {
     "name": "stdout",
     "output_type": "stream",
     "text": [
      "Train on 7354 samples, validate on 830 samples\n",
      "Epoch 1/10\n",
      "7354/7354 [==============================] - 15s 2ms/sample - loss: 1.4064 - accuracy: 0.6129 - val_loss: 1.0796 - val_accuracy: 0.6229\n",
      "Epoch 2/10\n",
      "7354/7354 [==============================] - 14s 2ms/sample - loss: 1.0699 - accuracy: 0.6244 - val_loss: 1.0753 - val_accuracy: 0.6229\n",
      "Epoch 3/10\n",
      "7354/7354 [==============================] - 14s 2ms/sample - loss: 1.0675 - accuracy: 0.6237 - val_loss: 1.0743 - val_accuracy: 0.6229\n",
      "Epoch 4/10\n",
      "7354/7354 [==============================] - 15s 2ms/sample - loss: 1.0590 - accuracy: 0.6243 - val_loss: 1.0741 - val_accuracy: 0.6229\n",
      "Epoch 5/10\n",
      "7354/7354 [==============================] - 16s 2ms/sample - loss: 1.0516 - accuracy: 0.6247 - val_loss: 1.0789 - val_accuracy: 0.6229\n",
      "Epoch 6/10\n",
      "7354/7354 [==============================] - 16s 2ms/sample - loss: 1.0559 - accuracy: 0.6243 - val_loss: 1.0716 - val_accuracy: 0.6229\n",
      "Epoch 7/10\n",
      "7354/7354 [==============================] - 15s 2ms/sample - loss: 1.0467 - accuracy: 0.6240 - val_loss: 1.0788 - val_accuracy: 0.6241\n",
      "Epoch 8/10\n",
      "7354/7354 [==============================] - 17s 2ms/sample - loss: 1.0415 - accuracy: 0.6251 - val_loss: 1.1101 - val_accuracy: 0.6253\n",
      "Epoch 9/10\n",
      "7354/7354 [==============================] - 15s 2ms/sample - loss: 1.0336 - accuracy: 0.6242 - val_loss: 1.1271 - val_accuracy: 0.6205\n",
      "Epoch 10/10\n",
      "7354/7354 [==============================] - 14s 2ms/sample - loss: 1.0283 - accuracy: 0.6256 - val_loss: 1.1089 - val_accuracy: 0.6193\n"
     ]
    }
   ],
   "source": [
    "model.compile(optimizer='adam',\n",
    "              loss='sparse_categorical_crossentropy',\n",
    "              metrics=['accuracy'])\n",
    "\n",
    "\n",
    "history = model.fit(X_train, y_train, epochs=10, validation_data=(X_val, y_val))"
   ]
  },
  {
   "cell_type": "code",
   "execution_count": null,
   "metadata": {},
   "outputs": [],
   "source": []
  },
  {
   "cell_type": "code",
   "execution_count": null,
   "metadata": {},
   "outputs": [],
   "source": []
  }
 ],
 "metadata": {
  "kernelspec": {
   "display_name": "Python 3",
   "language": "python",
   "name": "python3"
  },
  "language_info": {
   "codemirror_mode": {
    "name": "ipython",
    "version": 3
   },
   "file_extension": ".py",
   "mimetype": "text/x-python",
   "name": "python",
   "nbconvert_exporter": "python",
   "pygments_lexer": "ipython3",
   "version": "3.7.4"
  }
 },
 "nbformat": 4,
 "nbformat_minor": 2
}
